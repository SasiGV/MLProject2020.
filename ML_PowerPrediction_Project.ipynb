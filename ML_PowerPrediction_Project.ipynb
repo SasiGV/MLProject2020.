{
 "cells": [
  {
   "cell_type": "markdown",
   "metadata": {},
   "source": [
    "# Data Analytics\n",
    "\n",
    "## Machine Learning & Statistics Project\n"
   ]
  },
  {
   "cell_type": "markdown",
   "metadata": {},
   "source": [
    "<b>Project requirement:</b> The goal is to produce a model that accurately predicts wind turbine power output from wind speed values, as in the data set. You must then develop a web service that will respond with predicted power values based on speed values sent as HTTP requests.\n"
   ]
  },
  {
   "cell_type": "markdown",
   "metadata": {},
   "source": [
    "## Index\n",
    "\n",
    "- Import the required packages for the program and Load dataset\n",
    "- Prepare cleaned dataset by removing zero values\n",
    "- Investigate data content\n",
    "- Review findings of dataset investigation\n",
    "- Review of the formula to calculate Power using wind speed\n",
    "- <b>Model -1 Linear Regression</b>\n",
    "- Prepare dataset and apply linear regression \n",
    "- Review the output from Linear regression\n",
    "- Redefine the dataset by removing the zero power and zero wind speed \n",
    "- Apply Linear regression on Full dataset \n",
    "- Train the full dataset using scikit learn and analyse the output\n",
    "- Apply train on Medium dataset\n",
    "- Evaluate the algorithm and compare both Full and Medium dataset \n",
    "\n",
    "- <b>Model -2 Neural Network</b>\n",
    "- Machine learning methods for wind turbine condition monitoring\n",
    "- Deep Learning in Keras\n",
    "- Activation Function selected for this model\n",
    "- Sigmoid Activation\n",
    "- Sigmoid Curve Model Dataset Pre-Processing\n",
    "- Sigmoid Curve Model Training\n",
    "- Sigmoid Curve Model Testing\n",
    "- Sigmoid Curve Model Display Plot using Train and Test Dataset\n",
    "- <b>Prepare Dataset for Keras Model</b>\n",
    "- Applying Keras Model\n",
    "- Compare Training Datset and model predictions\n",
    "- Compare Test Dataset and Model predictions\n",
    "- Save the Neural Network Model\n",
    "- <b>Model Accuracy of the Training data</b>\n",
    "- Model's Accuracy Plot\n",
    "- Model's Loss curve Plot\n",
    "-<b>Web Service</b>\n",
    "- User Interface for the Website\n",
    "- Code used for Flask Application\n",
    "- Testing of function"
   ]
  },
  {
   "cell_type": "markdown",
   "metadata": {},
   "source": [
    "<b>Import the required packages for the program</b>"
   ]
  },
  {
   "cell_type": "code",
   "execution_count": 1,
   "metadata": {},
   "outputs": [],
   "source": [
    "# For data frames.\n",
    "import pandas as pd\n",
    "import seaborn as sns\n",
    "\n",
    "# For numerical arrays.\n",
    "import numpy as np\n",
    "\n",
    "# For plotting\n",
    "import matplotlib.pyplot as plt\n",
    "#%matplotline inline\n",
    "\n",
    "#For maths\n",
    "import math as m\n",
    "\n",
    "# For linear regression.\n",
    "from sklearn import linear_model\n",
    "\n",
    "# For evaluating model performance.\n",
    "from sklearn.metrics import mean_squared_error, r2_score\n",
    "from sklearn import metrics\n",
    "\n",
    "# For splitting data into train / test sets.\n",
    "from sklearn.model_selection import train_test_split\n",
    "#import sklearn.model_selection as skms\n",
    "\n",
    "from scipy.optimize import curve_fit\n",
    "from scipy import stats\n",
    "import sklearn.preprocessing as skpp\n",
    "import sklearn.metrics as skme\n",
    "import tensorflow.keras as kr\n",
    "from keras.models import model_from_json\n",
    "from tensorflow.keras.models import Sequential \n",
    "\n",
    "import tensorflow as tf\n",
    "from tensorflow import keras\n",
    "from tensorflow.keras import layers"
   ]
  },
  {
   "cell_type": "code",
   "execution_count": 2,
   "metadata": {},
   "outputs": [],
   "source": [
    "plt.rcParams['figure.figsize'] = (8.0, 6.0) "
   ]
  },
  {
   "cell_type": "markdown",
   "metadata": {},
   "source": [
    "<b>PowerProduction Dataset</b>\n"
   ]
  },
  {
   "cell_type": "code",
   "execution_count": 3,
   "metadata": {},
   "outputs": [
    {
     "name": "stdout",
     "output_type": "stream",
     "text": [
      "Data frame shape (500, 2) r,c\n",
      "speed    500\n",
      "power    500\n",
      "dtype: int64\n"
     ]
    }
   ],
   "source": [
    "# File provided as a txt file. I saved it as a csv file.\n",
    "Power_data = pd.read_csv(\"data\\powerproduction.csv\")\n",
    "\n",
    "# Make a copy of the original dataset in case we need it later.\n",
    "Power_data_copy = Power_data\n",
    "\n",
    "# Size?\n",
    "shape = Power_data.shape\n",
    "print(\"Data frame shape\", shape, \"r,c\")\n",
    "\n",
    "# Check for NaNs, missing values etc\n",
    "print(Power_data.count())"
   ]
  },
  {
   "cell_type": "code",
   "execution_count": 4,
   "metadata": {},
   "outputs": [
    {
     "data": {
      "text/html": [
       "<div>\n",
       "<style scoped>\n",
       "    .dataframe tbody tr th:only-of-type {\n",
       "        vertical-align: middle;\n",
       "    }\n",
       "\n",
       "    .dataframe tbody tr th {\n",
       "        vertical-align: top;\n",
       "    }\n",
       "\n",
       "    .dataframe thead th {\n",
       "        text-align: right;\n",
       "    }\n",
       "</style>\n",
       "<table border=\"1\" class=\"dataframe\">\n",
       "  <thead>\n",
       "    <tr style=\"text-align: right;\">\n",
       "      <th></th>\n",
       "      <th>speed</th>\n",
       "      <th>power</th>\n",
       "    </tr>\n",
       "  </thead>\n",
       "  <tbody>\n",
       "    <tr>\n",
       "      <th>0</th>\n",
       "      <td>0.000</td>\n",
       "      <td>0.0</td>\n",
       "    </tr>\n",
       "    <tr>\n",
       "      <th>1</th>\n",
       "      <td>0.125</td>\n",
       "      <td>0.0</td>\n",
       "    </tr>\n",
       "    <tr>\n",
       "      <th>2</th>\n",
       "      <td>0.150</td>\n",
       "      <td>0.0</td>\n",
       "    </tr>\n",
       "    <tr>\n",
       "      <th>3</th>\n",
       "      <td>0.225</td>\n",
       "      <td>0.0</td>\n",
       "    </tr>\n",
       "    <tr>\n",
       "      <th>4</th>\n",
       "      <td>0.275</td>\n",
       "      <td>0.0</td>\n",
       "    </tr>\n",
       "    <tr>\n",
       "      <th>...</th>\n",
       "      <td>...</td>\n",
       "      <td>...</td>\n",
       "    </tr>\n",
       "    <tr>\n",
       "      <th>495</th>\n",
       "      <td>24.775</td>\n",
       "      <td>0.0</td>\n",
       "    </tr>\n",
       "    <tr>\n",
       "      <th>496</th>\n",
       "      <td>24.850</td>\n",
       "      <td>0.0</td>\n",
       "    </tr>\n",
       "    <tr>\n",
       "      <th>497</th>\n",
       "      <td>24.875</td>\n",
       "      <td>0.0</td>\n",
       "    </tr>\n",
       "    <tr>\n",
       "      <th>498</th>\n",
       "      <td>24.950</td>\n",
       "      <td>0.0</td>\n",
       "    </tr>\n",
       "    <tr>\n",
       "      <th>499</th>\n",
       "      <td>25.000</td>\n",
       "      <td>0.0</td>\n",
       "    </tr>\n",
       "  </tbody>\n",
       "</table>\n",
       "<p>500 rows × 2 columns</p>\n",
       "</div>"
      ],
      "text/plain": [
       "      speed  power\n",
       "0     0.000    0.0\n",
       "1     0.125    0.0\n",
       "2     0.150    0.0\n",
       "3     0.225    0.0\n",
       "4     0.275    0.0\n",
       "..      ...    ...\n",
       "495  24.775    0.0\n",
       "496  24.850    0.0\n",
       "497  24.875    0.0\n",
       "498  24.950    0.0\n",
       "499  25.000    0.0\n",
       "\n",
       "[500 rows x 2 columns]"
      ]
     },
     "execution_count": 4,
     "metadata": {},
     "output_type": "execute_result"
    }
   ],
   "source": [
    "# Have a look at the data from our Power Production input\n",
    "Power_data"
   ]
  },
  {
   "cell_type": "markdown",
   "metadata": {},
   "source": [
    "Since the power column has zero output from the above we will check few lines from top and bottom of the file\n",
    "\n"
   ]
  },
  {
   "cell_type": "code",
   "execution_count": 5,
   "metadata": {},
   "outputs": [
    {
     "data": {
      "text/html": [
       "<div>\n",
       "<style scoped>\n",
       "    .dataframe tbody tr th:only-of-type {\n",
       "        vertical-align: middle;\n",
       "    }\n",
       "\n",
       "    .dataframe tbody tr th {\n",
       "        vertical-align: top;\n",
       "    }\n",
       "\n",
       "    .dataframe thead th {\n",
       "        text-align: right;\n",
       "    }\n",
       "</style>\n",
       "<table border=\"1\" class=\"dataframe\">\n",
       "  <thead>\n",
       "    <tr style=\"text-align: right;\">\n",
       "      <th></th>\n",
       "      <th>speed</th>\n",
       "      <th>power</th>\n",
       "    </tr>\n",
       "  </thead>\n",
       "  <tbody>\n",
       "    <tr>\n",
       "      <th>0</th>\n",
       "      <td>0.000</td>\n",
       "      <td>0.000</td>\n",
       "    </tr>\n",
       "    <tr>\n",
       "      <th>1</th>\n",
       "      <td>0.125</td>\n",
       "      <td>0.000</td>\n",
       "    </tr>\n",
       "    <tr>\n",
       "      <th>2</th>\n",
       "      <td>0.150</td>\n",
       "      <td>0.000</td>\n",
       "    </tr>\n",
       "    <tr>\n",
       "      <th>3</th>\n",
       "      <td>0.225</td>\n",
       "      <td>0.000</td>\n",
       "    </tr>\n",
       "    <tr>\n",
       "      <th>4</th>\n",
       "      <td>0.275</td>\n",
       "      <td>0.000</td>\n",
       "    </tr>\n",
       "    <tr>\n",
       "      <th>5</th>\n",
       "      <td>0.325</td>\n",
       "      <td>4.331</td>\n",
       "    </tr>\n",
       "    <tr>\n",
       "      <th>6</th>\n",
       "      <td>0.400</td>\n",
       "      <td>5.186</td>\n",
       "    </tr>\n",
       "    <tr>\n",
       "      <th>7</th>\n",
       "      <td>0.450</td>\n",
       "      <td>3.826</td>\n",
       "    </tr>\n",
       "    <tr>\n",
       "      <th>8</th>\n",
       "      <td>0.501</td>\n",
       "      <td>1.048</td>\n",
       "    </tr>\n",
       "    <tr>\n",
       "      <th>9</th>\n",
       "      <td>0.526</td>\n",
       "      <td>5.553</td>\n",
       "    </tr>\n",
       "    <tr>\n",
       "      <th>10</th>\n",
       "      <td>0.551</td>\n",
       "      <td>6.498</td>\n",
       "    </tr>\n",
       "    <tr>\n",
       "      <th>11</th>\n",
       "      <td>0.576</td>\n",
       "      <td>5.241</td>\n",
       "    </tr>\n",
       "    <tr>\n",
       "      <th>12</th>\n",
       "      <td>0.626</td>\n",
       "      <td>4.220</td>\n",
       "    </tr>\n",
       "    <tr>\n",
       "      <th>13</th>\n",
       "      <td>0.676</td>\n",
       "      <td>7.974</td>\n",
       "    </tr>\n",
       "    <tr>\n",
       "      <th>14</th>\n",
       "      <td>0.701</td>\n",
       "      <td>9.746</td>\n",
       "    </tr>\n",
       "    <tr>\n",
       "      <th>15</th>\n",
       "      <td>0.726</td>\n",
       "      <td>0.000</td>\n",
       "    </tr>\n",
       "    <tr>\n",
       "      <th>16</th>\n",
       "      <td>0.751</td>\n",
       "      <td>0.000</td>\n",
       "    </tr>\n",
       "    <tr>\n",
       "      <th>17</th>\n",
       "      <td>0.801</td>\n",
       "      <td>7.271</td>\n",
       "    </tr>\n",
       "    <tr>\n",
       "      <th>18</th>\n",
       "      <td>0.826</td>\n",
       "      <td>0.795</td>\n",
       "    </tr>\n",
       "    <tr>\n",
       "      <th>19</th>\n",
       "      <td>0.851</td>\n",
       "      <td>7.350</td>\n",
       "    </tr>\n",
       "  </tbody>\n",
       "</table>\n",
       "</div>"
      ],
      "text/plain": [
       "    speed  power\n",
       "0   0.000  0.000\n",
       "1   0.125  0.000\n",
       "2   0.150  0.000\n",
       "3   0.225  0.000\n",
       "4   0.275  0.000\n",
       "5   0.325  4.331\n",
       "6   0.400  5.186\n",
       "7   0.450  3.826\n",
       "8   0.501  1.048\n",
       "9   0.526  5.553\n",
       "10  0.551  6.498\n",
       "11  0.576  5.241\n",
       "12  0.626  4.220\n",
       "13  0.676  7.974\n",
       "14  0.701  9.746\n",
       "15  0.726  0.000\n",
       "16  0.751  0.000\n",
       "17  0.801  7.271\n",
       "18  0.826  0.795\n",
       "19  0.851  7.350"
      ]
     },
     "execution_count": 5,
     "metadata": {},
     "output_type": "execute_result"
    }
   ],
   "source": [
    "# Print firdt 20 rows\n",
    "Power_data.head(20)"
   ]
  },
  {
   "cell_type": "code",
   "execution_count": 6,
   "metadata": {},
   "outputs": [
    {
     "data": {
      "text/html": [
       "<div>\n",
       "<style scoped>\n",
       "    .dataframe tbody tr th:only-of-type {\n",
       "        vertical-align: middle;\n",
       "    }\n",
       "\n",
       "    .dataframe tbody tr th {\n",
       "        vertical-align: top;\n",
       "    }\n",
       "\n",
       "    .dataframe thead th {\n",
       "        text-align: right;\n",
       "    }\n",
       "</style>\n",
       "<table border=\"1\" class=\"dataframe\">\n",
       "  <thead>\n",
       "    <tr style=\"text-align: right;\">\n",
       "      <th></th>\n",
       "      <th>speed</th>\n",
       "      <th>power</th>\n",
       "    </tr>\n",
       "  </thead>\n",
       "  <tbody>\n",
       "    <tr>\n",
       "      <th>480</th>\n",
       "      <td>23.974</td>\n",
       "      <td>94.270</td>\n",
       "    </tr>\n",
       "    <tr>\n",
       "      <th>481</th>\n",
       "      <td>24.024</td>\n",
       "      <td>105.992</td>\n",
       "    </tr>\n",
       "    <tr>\n",
       "      <th>482</th>\n",
       "      <td>24.049</td>\n",
       "      <td>93.524</td>\n",
       "    </tr>\n",
       "    <tr>\n",
       "      <th>483</th>\n",
       "      <td>24.174</td>\n",
       "      <td>95.869</td>\n",
       "    </tr>\n",
       "    <tr>\n",
       "      <th>484</th>\n",
       "      <td>24.199</td>\n",
       "      <td>101.419</td>\n",
       "    </tr>\n",
       "    <tr>\n",
       "      <th>485</th>\n",
       "      <td>24.249</td>\n",
       "      <td>103.700</td>\n",
       "    </tr>\n",
       "    <tr>\n",
       "      <th>486</th>\n",
       "      <td>24.299</td>\n",
       "      <td>93.694</td>\n",
       "    </tr>\n",
       "    <tr>\n",
       "      <th>487</th>\n",
       "      <td>24.349</td>\n",
       "      <td>93.078</td>\n",
       "    </tr>\n",
       "    <tr>\n",
       "      <th>488</th>\n",
       "      <td>24.374</td>\n",
       "      <td>98.223</td>\n",
       "    </tr>\n",
       "    <tr>\n",
       "      <th>489</th>\n",
       "      <td>24.399</td>\n",
       "      <td>95.117</td>\n",
       "    </tr>\n",
       "    <tr>\n",
       "      <th>490</th>\n",
       "      <td>24.499</td>\n",
       "      <td>0.000</td>\n",
       "    </tr>\n",
       "    <tr>\n",
       "      <th>491</th>\n",
       "      <td>24.525</td>\n",
       "      <td>0.000</td>\n",
       "    </tr>\n",
       "    <tr>\n",
       "      <th>492</th>\n",
       "      <td>24.575</td>\n",
       "      <td>0.000</td>\n",
       "    </tr>\n",
       "    <tr>\n",
       "      <th>493</th>\n",
       "      <td>24.650</td>\n",
       "      <td>0.000</td>\n",
       "    </tr>\n",
       "    <tr>\n",
       "      <th>494</th>\n",
       "      <td>24.750</td>\n",
       "      <td>0.000</td>\n",
       "    </tr>\n",
       "    <tr>\n",
       "      <th>495</th>\n",
       "      <td>24.775</td>\n",
       "      <td>0.000</td>\n",
       "    </tr>\n",
       "    <tr>\n",
       "      <th>496</th>\n",
       "      <td>24.850</td>\n",
       "      <td>0.000</td>\n",
       "    </tr>\n",
       "    <tr>\n",
       "      <th>497</th>\n",
       "      <td>24.875</td>\n",
       "      <td>0.000</td>\n",
       "    </tr>\n",
       "    <tr>\n",
       "      <th>498</th>\n",
       "      <td>24.950</td>\n",
       "      <td>0.000</td>\n",
       "    </tr>\n",
       "    <tr>\n",
       "      <th>499</th>\n",
       "      <td>25.000</td>\n",
       "      <td>0.000</td>\n",
       "    </tr>\n",
       "  </tbody>\n",
       "</table>\n",
       "</div>"
      ],
      "text/plain": [
       "      speed    power\n",
       "480  23.974   94.270\n",
       "481  24.024  105.992\n",
       "482  24.049   93.524\n",
       "483  24.174   95.869\n",
       "484  24.199  101.419\n",
       "485  24.249  103.700\n",
       "486  24.299   93.694\n",
       "487  24.349   93.078\n",
       "488  24.374   98.223\n",
       "489  24.399   95.117\n",
       "490  24.499    0.000\n",
       "491  24.525    0.000\n",
       "492  24.575    0.000\n",
       "493  24.650    0.000\n",
       "494  24.750    0.000\n",
       "495  24.775    0.000\n",
       "496  24.850    0.000\n",
       "497  24.875    0.000\n",
       "498  24.950    0.000\n",
       "499  25.000    0.000"
      ]
     },
     "execution_count": 6,
     "metadata": {},
     "output_type": "execute_result"
    }
   ],
   "source": [
    "Power_data.tail(20)"
   ]
  },
  {
   "cell_type": "markdown",
   "metadata": {},
   "source": [
    "Looking at the raw data it is noted that wind speeds 0.275 and below generate no power, wind speeds 24.499 generate no power. Even from the above description the power for the low and high level wind speed power has taken zero value. So we will look at some more rows from the top to find the data for Power column."
   ]
  },
  {
   "cell_type": "code",
   "execution_count": 7,
   "metadata": {},
   "outputs": [
    {
     "name": "stdout",
     "output_type": "stream",
     "text": [
      "            speed       power\n",
      "count  500.000000  500.000000\n",
      "mean    12.590398   48.014584\n",
      "std      7.224991   41.614572\n",
      "min      0.000000    0.000000\n",
      "25%      6.324750    5.288000\n",
      "50%     12.550500   41.645500\n",
      "75%     18.775250   93.537000\n",
      "max     25.000000  113.556000\n"
     ]
    }
   ],
   "source": [
    "# Look at some quick descriptive statistics of the numeric data.\n",
    "print(Power_data.describe())"
   ]
  },
  {
   "cell_type": "code",
   "execution_count": 8,
   "metadata": {},
   "outputs": [
    {
     "data": {
      "image/png": "[encoded data removed]",
      "text/plain": [
       "<Figure size 576x432 with 1 Axes>"
      ]
     },
     "metadata": {
      "needs_background": "light"
     },
     "output_type": "display_data"
    }
   ],
   "source": [
    "# Try plotting power as a function of wind speed to check for any obvious relationship between them.\n",
    "plt.plot(Power_data['speed'], Power_data['power'],  '.g')\n",
    "plt.title('Power vs wind speed', fontsize='14')\n",
    "plt.xlabel('speed (m/s)', fontsize='14')\n",
    "plt.ylabel('power', fontsize='14')\n",
    "plt.grid()"
   ]
  },
  {
   "cell_type": "markdown",
   "metadata": {},
   "source": [
    "With the given data we can see that there is little power is generated until some threshold speed is achieved (about 7 m/s), then it increases nearly linearly in a range of wind speeds (8 - 17 m/s), before saturating above a certain wind speed (about 17 m/s). The plot would suggest there is a range of wind speeds where the power seems to increase linearly with wind speed. "
   ]
  },
  {
   "cell_type": "markdown",
   "metadata": {},
   "source": [
    "I would like to do some cleanup to remove the zero power just to make it clear while finding the promising model"
   ]
  },
  {
   "cell_type": "code",
   "execution_count": 9,
   "metadata": {},
   "outputs": [
    {
     "data": {
      "image/png": "[encoded data removed]",
      "text/plain": [
       "<Figure size 576x432 with 1 Axes>"
      ]
     },
     "metadata": {
      "needs_background": "light"
     },
     "output_type": "display_data"
    }
   ],
   "source": [
    "# Remove the rows with zero values to Power column from my existing dataset.\n",
    "Power_data.drop(Power_data.loc[(Power_data.power == 0) & (Power_data.speed > 10)].index, inplace=True)\n",
    "\n",
    "plt.plot(Power_data['speed'], Power_data['power'],  '.b')\n",
    "plt.title('Power vs wind speed - cleaned', fontsize='14')\n",
    "plt.xlabel('speed (m/s)', fontsize='14')\n",
    "plt.ylabel('power (kW)', fontsize='14')\n",
    "plt.grid()"
   ]
  },
  {
   "cell_type": "markdown",
   "metadata": {},
   "source": [
    "<b>Formula used in real life to calculate the Power of Wind</b>\n",
    "\n",
    "In order to calculate the amount of energy the wind speed is very important to convert it to electricity. The energy content of the wind varies with the cube of the avereate  wind speed, e.g. if the wind speed is twice as high it contains 2^3 = 2x2x2 = eight times as much energy [1]\n",
    "\n"
   ]
  },
  {
   "cell_type": "markdown",
   "metadata": {},
   "source": [
    "![Power_of_wind](images/Power_of_wind.jpg)\n"
   ]
  },
  {
   "cell_type": "markdown",
   "metadata": {},
   "source": [
    "<b>Power Curve of a Wind Turbine</b>\n",
    "\n",
    "The power curve of a wind turbine is a graph that indicates how large the electrical power output will be for the turbine at different wind speeds[2] At the same time this curve will not show how much power a wind turbine will produce at a certain average wind speed.\n",
    "\n",
    "When the anemometer registers wind speeds higher than 25 mph (cut-out speed varies by turbine), it triggers the wind turbine to automatically shut off and resumes back to normal when the measurement of wind speed are at or below the turbine's cut-out speed[4]  "
   ]
  },
  {
   "cell_type": "markdown",
   "metadata": {},
   "source": [
    "![Power_curve](images/Power_curve.jpg)"
   ]
  },
  {
   "cell_type": "markdown",
   "metadata": {},
   "source": [
    "![Power_curve2](images/Wind_Power_curve.jpg)"
   ]
  },
  {
   "cell_type": "markdown",
   "metadata": {},
   "source": [
    "The theoretical power curve for a turbine is specific to each turbine and site [3]. Based on the above graph  \n",
    " - The cut-in speed is the threshold wind speed that much be reached before the turbine will start to generate electricity. A typical value is about 4 m/s.\n",
    " - The rated output power is achieved at approximately 14 - 15 m/s.\n",
    " - The cut-out speed is the wind speed at which the turbine will stop producing electricity in order to avoid damage; typically 25 m/s.\n",
    " \n",
    "While comparing this curve with the plot diagram on our cleaned dataset is nearly closer but we will start to apply some regression methods to find the best model for our Power production dataset."
   ]
  },
  {
   "cell_type": "markdown",
   "metadata": {},
   "source": [
    "## Prepare Dataset to find a best model in ML"
   ]
  },
  {
   "cell_type": "markdown",
   "metadata": {},
   "source": [
    "In order to prepare our dataset for investigations, it is better to remove unwanted results like zero output from it to find a best model. So that I am going to use the last cleaned dataset hear after."
   ]
  },
  {
   "cell_type": "code",
   "execution_count": 10,
   "metadata": {},
   "outputs": [
    {
     "data": {
      "image/png": "[encoded data removed]",
      "text/plain": [
       "<Figure size 576x432 with 1 Axes>"
      ]
     },
     "metadata": {
      "needs_background": "light"
     },
     "output_type": "display_data"
    }
   ],
   "source": [
    "# Remove the rows with zero values to Power column from my existing dataset.\n",
    "Cleaned_Power_Data =  Power_data\n",
    "\n",
    "#Power_data.drop(Power_data.loc[(Power_data.power == 0) & (Power_data.speed > 10)].index, inplace=True)\n",
    "\n",
    "plt.plot(Cleaned_Power_Data['speed'], Cleaned_Power_Data['power'],  '.b')\n",
    "plt.title('Power vs wind speed - cleaned', fontsize='14')\n",
    "plt.xlabel('speed (m/s)', fontsize='14')\n",
    "plt.ylabel('power (kW)', fontsize='14')\n",
    "plt.grid()"
   ]
  },
  {
   "cell_type": "markdown",
   "metadata": {},
   "source": [
    "### Model 1 - Linear Regression"
   ]
  },
  {
   "cell_type": "markdown",
   "metadata": {},
   "source": [
    "#### Applying Linear regression \n",
    "\n",
    "Linear regression uses the relationship between the data-points to draw a straight line through all them. This line can be used to predict future values. It is a very powerful technique and can be used to understand the factors that influence profitability.[5] \n"
   ]
  },
  {
   "cell_type": "code",
   "execution_count": 11,
   "metadata": {},
   "outputs": [
    {
     "data": {
      "image/png": "[encoded data removed]",
      "text/plain": [
       "<Figure size 576x432 with 1 Axes>"
      ]
     },
     "metadata": {
      "needs_background": "light"
     },
     "output_type": "display_data"
    }
   ],
   "source": [
    "# https://www.w3schools.com/python/python_ml_linear_regression.asp\n",
    "x = Power_data['speed'].tolist()\n",
    "y = Power_data['power'].tolist()\n",
    "\n",
    "slope, intercept, r, p, std_err = stats.linregress(x, y)\n",
    "\n",
    "def myfunc(x):\n",
    "  return slope * x + intercept\n",
    "\n",
    "mymodel = list(map(myfunc, x))\n",
    "\n",
    "plt.scatter(x, y)\n",
    "plt.plot(x, mymodel)\n",
    "plt.show()"
   ]
  },
  {
   "cell_type": "markdown",
   "metadata": {},
   "source": [
    "From the above graph, you will a line straight in the middle of the data, means that there are large parts of the data untouched by the line where a linear prediction of the coordinates of speed to power would be very out of sync with where most of the data is. \n",
    "\n",
    "If we try to eliminate the data where speed and power are zero then we could get a good model with linear regression."
   ]
  },
  {
   "cell_type": "markdown",
   "metadata": {},
   "source": [
    "<b>Preparing Medium data set by including data for Speed within 7 m/s to 17m/s </b>"
   ]
  },
  {
   "cell_type": "code",
   "execution_count": 12,
   "metadata": {},
   "outputs": [
    {
     "data": {
      "image/png": "[encoded data removed]",
      "text/plain": [
       "<Figure size 576x432 with 1 Axes>"
      ]
     },
     "metadata": {
      "needs_background": "light"
     },
     "output_type": "display_data"
    }
   ],
   "source": [
    "# https://www.w3schools.com/python/python_ml_linear_regression.asp\n",
    "\n",
    "# Cleaniing the dataset by removing the zero values\n",
    "cleansed_data = Power_data.loc[Power_data['power'] > 0 ]\n",
    "\n",
    "Medium_set_data = cleansed_data.loc[(cleansed_data['speed'] > 8) & (cleansed_data['speed']<= 17)]\n",
    "\n",
    "x = Medium_set_data['speed'].tolist()\n",
    "y = Medium_set_data['power'].tolist()\n",
    "\n",
    "slope, intercept, r, p, std_err = stats.linregress(x, y)\n",
    "\n",
    "def myfunc(x):\n",
    "  return slope * x + intercept\n",
    "\n",
    "mymodel = list(map(myfunc, x))\n",
    "\n",
    "plt.scatter(x, y)\n",
    "plt.plot(x, mymodel)\n",
    "plt.show()\n"
   ]
  },
  {
   "cell_type": "code",
   "execution_count": 13,
   "metadata": {},
   "outputs": [
    {
     "data": {
      "text/html": [
       "<div>\n",
       "<style scoped>\n",
       "    .dataframe tbody tr th:only-of-type {\n",
       "        vertical-align: middle;\n",
       "    }\n",
       "\n",
       "    .dataframe tbody tr th {\n",
       "        vertical-align: top;\n",
       "    }\n",
       "\n",
       "    .dataframe thead th {\n",
       "        text-align: right;\n",
       "    }\n",
       "</style>\n",
       "<table border=\"1\" class=\"dataframe\">\n",
       "  <thead>\n",
       "    <tr style=\"text-align: right;\">\n",
       "      <th></th>\n",
       "      <th>speed</th>\n",
       "      <th>power</th>\n",
       "    </tr>\n",
       "  </thead>\n",
       "  <tbody>\n",
       "    <tr>\n",
       "      <th>count</th>\n",
       "      <td>172.00</td>\n",
       "      <td>172.00</td>\n",
       "    </tr>\n",
       "    <tr>\n",
       "      <th>mean</th>\n",
       "      <td>12.66</td>\n",
       "      <td>49.93</td>\n",
       "    </tr>\n",
       "    <tr>\n",
       "      <th>std</th>\n",
       "      <td>2.58</td>\n",
       "      <td>27.97</td>\n",
       "    </tr>\n",
       "    <tr>\n",
       "      <th>min</th>\n",
       "      <td>8.03</td>\n",
       "      <td>3.00</td>\n",
       "    </tr>\n",
       "    <tr>\n",
       "      <th>25%</th>\n",
       "      <td>10.38</td>\n",
       "      <td>24.26</td>\n",
       "    </tr>\n",
       "    <tr>\n",
       "      <th>50%</th>\n",
       "      <td>12.55</td>\n",
       "      <td>47.31</td>\n",
       "    </tr>\n",
       "    <tr>\n",
       "      <th>75%</th>\n",
       "      <td>14.92</td>\n",
       "      <td>76.70</td>\n",
       "    </tr>\n",
       "    <tr>\n",
       "      <th>max</th>\n",
       "      <td>16.99</td>\n",
       "      <td>97.53</td>\n",
       "    </tr>\n",
       "  </tbody>\n",
       "</table>\n",
       "</div>"
      ],
      "text/plain": [
       "        speed   power\n",
       "count  172.00  172.00\n",
       "mean    12.66   49.93\n",
       "std      2.58   27.97\n",
       "min      8.03    3.00\n",
       "25%     10.38   24.26\n",
       "50%     12.55   47.31\n",
       "75%     14.92   76.70\n",
       "max     16.99   97.53"
      ]
     },
     "execution_count": 13,
     "metadata": {},
     "output_type": "execute_result"
    }
   ],
   "source": [
    "Medium_set_data.describe().round(2)"
   ]
  },
  {
   "cell_type": "code",
   "execution_count": 14,
   "metadata": {},
   "outputs": [
    {
     "name": "stdout",
     "output_type": "stream",
     "text": [
      "Medium speed range: 8 to 17 m/s = 35.4%\n"
     ]
    }
   ],
   "source": [
    "# Count low medium and high wind speed ranges. Code adapted from\n",
    "# https://www.kite.com/python/answers/how-to-count-the-number-of-rows-in-a-pandas-dataframe-in-python\n",
    "df_cnt = len(Power_data.index)\n",
    "\n",
    "med_s_cnt = len(Medium_set_data.index)\n",
    "\n",
    "# Print % of low medium and high wind speed ranges.\n",
    "# Code adapted from https://pyformat.info/\n",
    "print(f\"Medium speed range: 8 to 17 m/s = {(med_s_cnt/df_cnt)*100:.1f}%\")\n"
   ]
  },
  {
   "cell_type": "markdown",
   "metadata": {},
   "source": [
    "<b> Summary plot of relationship for Medium Wind Speed range </b>"
   ]
  },
  {
   "cell_type": "code",
   "execution_count": 15,
   "metadata": {},
   "outputs": [
    {
     "data": {
      "image/png": "[encoded data removed]",
      "text/plain": [
       "<Figure size 432x432 with 3 Axes>"
      ]
     },
     "metadata": {
      "needs_background": "light"
     },
     "output_type": "display_data"
    }
   ],
   "source": [
    "# Plot comparison of medium wind speed versus power output\n",
    "# Code adapted from https://seaborn.pydata.org/tutorial/distributions.html#plotting-univariate-distributions \n",
    "# and https://seaborn.pydata.org/generated/seaborn.jointplot.html#seaborn.jointplot\n",
    "plot = sns.jointplot(x=\"speed\", y=\"power\", kind=\"reg\", color=\"b\", height=6, data=Medium_set_data)\n",
    "\n",
    "# Add Title adapted from https://stackoverflow.com/a/52096280\n",
    "plt.subplots_adjust(top=0.90)\n",
    "plt.suptitle(\"Linear relationship of medium Wind Speed vs Power Output\", fontsize = 12)\n",
    "# Display plot\n",
    "plt.show()\n"
   ]
  },
  {
   "cell_type": "markdown",
   "metadata": {},
   "source": [
    "<b> Display plot of cleaned full dataset </b>"
   ]
  },
  {
   "cell_type": "code",
   "execution_count": 16,
   "metadata": {},
   "outputs": [
    {
     "data": {
      "image/png": "[encoded data removed]",
      "text/plain": [
       "<Figure size 720x720 with 6 Axes>"
      ]
     },
     "metadata": {
      "needs_background": "light"
     },
     "output_type": "display_data"
    }
   ],
   "source": [
    "# Replot data comparison \n",
    "plot = sns.pairplot(Power_data, height=5)\n",
    "# Add Title \n",
    "plt.subplots_adjust(top=0.95)\n",
    "plt.suptitle(\"Comparison of Speed vs Power\", fontsize = 16)\n",
    "plt.show()"
   ]
  },
  {
   "cell_type": "markdown",
   "metadata": {},
   "source": [
    "#### Splitting Full Data Set into Training Data and Test Data\n",
    "\n",
    "Using scikit-learn we can divide the Power Production data set into training data and test data. "
   ]
  },
  {
   "cell_type": "code",
   "execution_count": 17,
   "metadata": {},
   "outputs": [
    {
     "name": "stdout",
     "output_type": "stream",
     "text": [
      "(486, 1)\n",
      "(486,)\n",
      "Coefficients: \n",
      " [5.53445293]\n",
      "Intercept: \n",
      " -19.051592132351068\n"
     ]
    },
    {
     "data": {
      "text/html": [
       "<div>\n",
       "<style scoped>\n",
       "    .dataframe tbody tr th:only-of-type {\n",
       "        vertical-align: middle;\n",
       "    }\n",
       "\n",
       "    .dataframe tbody tr th {\n",
       "        vertical-align: top;\n",
       "    }\n",
       "\n",
       "    .dataframe thead th {\n",
       "        text-align: right;\n",
       "    }\n",
       "</style>\n",
       "<table border=\"1\" class=\"dataframe\">\n",
       "  <thead>\n",
       "    <tr style=\"text-align: right;\">\n",
       "      <th></th>\n",
       "      <th>Actual</th>\n",
       "      <th>Predicted</th>\n",
       "    </tr>\n",
       "  </thead>\n",
       "  <tbody>\n",
       "    <tr>\n",
       "      <th>98</th>\n",
       "      <td>0.932</td>\n",
       "      <td>9.755235</td>\n",
       "    </tr>\n",
       "    <tr>\n",
       "      <th>36</th>\n",
       "      <td>7.221</td>\n",
       "      <td>-9.908676</td>\n",
       "    </tr>\n",
       "    <tr>\n",
       "      <th>242</th>\n",
       "      <td>43.454</td>\n",
       "      <td>48.950231</td>\n",
       "    </tr>\n",
       "    <tr>\n",
       "      <th>326</th>\n",
       "      <td>97.274</td>\n",
       "      <td>72.914412</td>\n",
       "    </tr>\n",
       "    <tr>\n",
       "      <th>89</th>\n",
       "      <td>0.000</td>\n",
       "      <td>7.956538</td>\n",
       "    </tr>\n",
       "  </tbody>\n",
       "</table>\n",
       "</div>"
      ],
      "text/plain": [
       "     Actual  Predicted\n",
       "98    0.932   9.755235\n",
       "36    7.221  -9.908676\n",
       "242  43.454  48.950231\n",
       "326  97.274  72.914412\n",
       "89    0.000   7.956538"
      ]
     },
     "execution_count": 17,
     "metadata": {},
     "output_type": "execute_result"
    }
   ],
   "source": [
    "# Code adopted from https://www.freecodecamp.org/news/how-to-build-and-train-linear-and-logistic-regression-ml-models-in-python/\n",
    "#x =  Power_data.iloc[:, :-1].values\n",
    "#y =  Power_data.iloc[:, :1].values\n",
    "\n",
    "x = Power_data[[\"speed\"]]\n",
    "y = Power_data[\"power\"]\n",
    "\n",
    "print(x.shape)\n",
    "print(y.shape)\n",
    "\n",
    "#Split 70% of data into training set and 30% of data into test set\n",
    "from sklearn.model_selection import train_test_split\n",
    "x_train, x_test, y_train, y_test = train_test_split(x, y, test_size = 0.3)\n",
    "\n",
    "#Build the model\n",
    "from sklearn.linear_model import LinearRegression\n",
    "Linear_Reg_model = LinearRegression()\n",
    "\n",
    "#Fit the model\n",
    "Linear_Reg_model.fit(x_train, y_train)\n",
    "\n",
    "#Print coefficient\n",
    "print('Coefficients: \\n',Linear_Reg_model.coef_)\n",
    "\n",
    "#print intercept of the regression equation\n",
    "print('Intercept: \\n', Linear_Reg_model.intercept_)\n",
    "\n",
    "\n",
    "# Make predictions from the model\n",
    "y_pred = Linear_Reg_model.predict(x_test)\n",
    "\n",
    "df = pd.DataFrame({'Actual': y_test, 'Predicted': y_pred})\n",
    "df.head()\n",
    "\n"
   ]
  },
  {
   "cell_type": "markdown",
   "metadata": {},
   "source": [
    "<b>Evaluating the Algorithm</b>"
   ]
  },
  {
   "cell_type": "markdown",
   "metadata": {},
   "source": [
    "The final step is to evaluate the performance of algorithm. This step is particularly important to compare how well different algorithms perform on a particular dataset. For regression algorithms, three evaluation metrics are commonly used:\n",
    " - Mean Absolute Error (MAE)\n",
    " - Mean Squared Error (MSE)\n",
    " - Root Mean Squared Error (RMSE)\n",
    " "
   ]
  },
  {
   "cell_type": "markdown",
   "metadata": {},
   "source": [
    "<b>Applying evaluation on the full data set</b>"
   ]
  },
  {
   "cell_type": "code",
   "execution_count": 18,
   "metadata": {},
   "outputs": [
    {
     "name": "stdout",
     "output_type": "stream",
     "text": [
      "Mean Absolute Error: 11.540471652432284\n",
      "Mean Squared Error: 170.81438767893997\n",
      "Root Mean Squared Error: 13.069597839219842\n"
     ]
    }
   ],
   "source": [
    "# Code adopted from https://stackabuse.com/linear-regression-in-python-with-scikit-learn/\n",
    "print('Mean Absolute Error:', metrics.mean_absolute_error(y_test, y_pred))\n",
    "print('Mean Squared Error:', metrics.mean_squared_error(y_test, y_pred))\n",
    "print('Root Mean Squared Error:', np.sqrt(metrics.mean_squared_error(y_test, y_pred)))\n"
   ]
  },
  {
   "cell_type": "markdown",
   "metadata": {},
   "source": [
    "You can see that the value of root mean squared error is 12.29, which is around 25% of the mean value of the percentages of Power energy which is 49.39. From this result we can see the impact of zero values for Speed and Power. If we get less than around 10% of Mean value of the actual dataset then it would be a good mode;\n",
    "\n",
    "Since the Mean squared error from out full data set is too high, I am going to take the Medium Data set to find it's performance."
   ]
  },
  {
   "cell_type": "markdown",
   "metadata": {},
   "source": [
    "<b>Apply Train test on Medium Power data set</b>"
   ]
  },
  {
   "cell_type": "code",
   "execution_count": 19,
   "metadata": {},
   "outputs": [
    {
     "name": "stdout",
     "output_type": "stream",
     "text": [
      "(172, 1)\n",
      "(172,)\n",
      "Coefficients: \n",
      " [10.65738476]\n",
      "Intercept: \n",
      " -85.06173795854116\n"
     ]
    },
    {
     "data": {
      "text/html": [
       "<div>\n",
       "<style scoped>\n",
       "    .dataframe tbody tr th:only-of-type {\n",
       "        vertical-align: middle;\n",
       "    }\n",
       "\n",
       "    .dataframe tbody tr th {\n",
       "        vertical-align: top;\n",
       "    }\n",
       "\n",
       "    .dataframe thead th {\n",
       "        text-align: right;\n",
       "    }\n",
       "</style>\n",
       "<table border=\"1\" class=\"dataframe\">\n",
       "  <thead>\n",
       "    <tr style=\"text-align: right;\">\n",
       "      <th></th>\n",
       "      <th>Actual</th>\n",
       "      <th>Predicted</th>\n",
       "    </tr>\n",
       "  </thead>\n",
       "  <tbody>\n",
       "    <tr>\n",
       "      <th>236</th>\n",
       "      <td>47.268</td>\n",
       "      <td>42.688333</td>\n",
       "    </tr>\n",
       "    <tr>\n",
       "      <th>197</th>\n",
       "      <td>26.427</td>\n",
       "      <td>22.684422</td>\n",
       "    </tr>\n",
       "    <tr>\n",
       "      <th>183</th>\n",
       "      <td>18.036</td>\n",
       "      <td>15.480030</td>\n",
       "    </tr>\n",
       "    <tr>\n",
       "      <th>314</th>\n",
       "      <td>78.994</td>\n",
       "      <td>85.360502</td>\n",
       "    </tr>\n",
       "    <tr>\n",
       "      <th>253</th>\n",
       "      <td>44.880</td>\n",
       "      <td>49.892725</td>\n",
       "    </tr>\n",
       "  </tbody>\n",
       "</table>\n",
       "</div>"
      ],
      "text/plain": [
       "     Actual  Predicted\n",
       "236  47.268  42.688333\n",
       "197  26.427  22.684422\n",
       "183  18.036  15.480030\n",
       "314  78.994  85.360502\n",
       "253  44.880  49.892725"
      ]
     },
     "execution_count": 19,
     "metadata": {},
     "output_type": "execute_result"
    }
   ],
   "source": [
    "# Code adopted from https://www.freecodecamp.org/news/how-to-build-and-train-linear-and-logistic-regression-ml-models-in-python/\n",
    "#x =  Power_data.iloc[:, :-1].values\n",
    "#y =  Power_data.iloc[:, :1].values\n",
    "\n",
    "x = Medium_set_data[[\"speed\"]]\n",
    "y = Medium_set_data[\"power\"]\n",
    "\n",
    "print(x.shape)\n",
    "print(y.shape)\n",
    "\n",
    "#Split 70% of data into training set and 30% of data into test set\n",
    "from sklearn.model_selection import train_test_split\n",
    "x_train, x_test, y_train, y_test = train_test_split(x, y, test_size = 0.3)\n",
    "\n",
    "#Build the model\n",
    "from sklearn.linear_model import LinearRegression\n",
    "Linear_Reg_model = LinearRegression()\n",
    "\n",
    "#Fit the model\n",
    "Linear_Reg_model.fit(x_train, y_train)\n",
    "\n",
    "#Print coefficient\n",
    "print('Coefficients: \\n',Linear_Reg_model.coef_)\n",
    "\n",
    "#print intercept of the regression equation\n",
    "print('Intercept: \\n', Linear_Reg_model.intercept_)\n",
    "\n",
    "\n",
    "# Make predictions from the model\n",
    "y_pred = Linear_Reg_model.predict(x_test)\n",
    "\n",
    "df = pd.DataFrame({'Actual': y_test, 'Predicted': y_pred})\n",
    "df.head()\n"
   ]
  },
  {
   "cell_type": "markdown",
   "metadata": {},
   "source": [
    "<b>Evaluating the Algorithm</b>"
   ]
  },
  {
   "cell_type": "code",
   "execution_count": 20,
   "metadata": {},
   "outputs": [
    {
     "name": "stdout",
     "output_type": "stream",
     "text": [
      "Mean Absolute Error: 3.5565233084159025\n",
      "Mean Squared Error: 17.709927757957768\n",
      "Root Mean Squared Error: 4.208316499261643\n"
     ]
    }
   ],
   "source": [
    "# Code adopted from https://stackabuse.com/linear-regression-in-python-with-scikit-learn/\n",
    "print('Mean Absolute Error:', metrics.mean_absolute_error(y_test, y_pred))\n",
    "print('Mean Squared Error:', metrics.mean_squared_error(y_test, y_pred))\n",
    "print('Root Mean Squared Error:', np.sqrt(metrics.mean_squared_error(y_test, y_pred)))\n"
   ]
  },
  {
   "cell_type": "markdown",
   "metadata": {},
   "source": [
    "From the result above we can see that the value of root mean squared error is 5.03, which is around 10% of the mean value of the percentages of Power energy which is 49.39."
   ]
  },
  {
   "cell_type": "markdown",
   "metadata": {},
   "source": [
    "From the above predictions and investigations it is clear that applying linear regression on a large set of data will not be good and it is quite good when there is no invalid data and a small set of data.\n",
    "\n",
    "So that I have done few more research in the available models in Machine Learning and found that Neural network has a high performance than the other traditional algorithms. So that I am moving on the Neural network model in the next step."
   ]
  },
  {
   "cell_type": "markdown",
   "metadata": {},
   "source": [
    "### Model 2 - Neural Network model"
   ]
  },
  {
   "cell_type": "markdown",
   "metadata": {},
   "source": [
    "### Machine learning methods for wind turbine condition monitoring\n",
    "\n",
    "The ML model selection step is particularly significant as it is the core functionality that learns from past data and generalizes into the future. Such models have been used for different tasks, including classification, regression, anomaly detection, synthesis and sampling, imputation of missing values, denoising, density estimation and many others. Several different models have been suggested for learning from data. Support vector machines (SVMs) and neural networks (NNs) are two common models that have been used in ML for diagnostics and prognostics.[6].\n",
    "\n",
    "\n",
    "While searching for a good model that can fit into out dataset, I found that Neural network has a better performance than the other traditional models. Since Deep Neural Network models are capable of learning complex non-linear functions, it may achieve better performance.[8]"
   ]
  },
  {
   "cell_type": "markdown",
   "metadata": {},
   "source": [
    "#### Deep Learning in Keras\n",
    "\n",
    "Deep learning is one of the most interesting and promising areas of artificial intelligence(AI) and machine learning currently. [7] It is a subfield of machine learning, and Neural Networks make up the backbone of deep learning algorithms. \n",
    "A deep learning neuual network is just a neural network with many hidden layers.\n",
    "\n",
    "- <b>Number of layers :</b>\n",
    "    In this model I am going to use Dense layer.\n",
    "- <b>Types of these layers :</b>\n",
    "    Dense layers are the most common and popular type of layers and it's just a regular neural network layer where each of its neurons is connected to the neurons of the previous and next layers.\n",
    "- <b>Number of units (neurons) in each Layer :</b>\n",
    "    Each dense layer has an activation function that determines the output of its neurons based on the inputs and the weights of the synapses.\n",
    "- <b>Activation Functions of each Layer :</b>\n",
    "    Activation functions are used to calculate a \"weighted sum\" of its input, adds a bias and then decides whether it should be activated or not. \n",
    "- <b>Input and output size :</b>\n",
    "    Neural network consisting of three layers: the input layer, a hidden layer with 50 neurons, and the output layer. The size of the input and output layers is determined by the data we have and what we want to predict. Having one hidden layer is a good default, but if there are more hidden layers, it's recommended to have the same number of neurons in each hidden layer\n",
    " "
   ]
  },
  {
   "cell_type": "markdown",
   "metadata": {},
   "source": [
    "![Neural_network](images/Neural_network.jpg)"
   ]
  },
  {
   "cell_type": "markdown",
   "metadata": {},
   "source": [
    "### Activation Function selected for this model"
   ]
  },
  {
   "cell_type": "markdown",
   "metadata": {},
   "source": [
    "When we are using connected layers in our model and if we use Linear activation on each layer then it will turn into one layer at the end. So that we have to apply a different activation function when using connected layers.\n",
    "\n",
    "There are different activation functions, e.g, Relu, Than and Sigmoid are in use now a days. \n",
    "\n",
    "Sigmoid - It is nonlinear in nature and combination of this function are also nonlinear. It will give an anolog activation unlike step function and it has a smooth gradient. The output of this function is always going to be in raning (0,1) and and we will have our activations bound in a range.[9]\n",
    "\n",
    "Tanh - It is actually a scaled sigmoid function, where it is also nonlinear and great to stack layers. It is bound to range (-1,1) like sigmoid but Tanh has stronger gradient than Sigmoid. \n",
    "\n",
    "Relu - The rectified linear activation function or ReLU for short is a piecewise linear function that will output the input directly if it is positive, otherwise, it will output zero[10]"
   ]
  },
  {
   "cell_type": "markdown",
   "metadata": {},
   "source": [
    "#### Sigmoid Activation\n",
    "\n",
    "![Sigmoid](images/Sigmoid.jpg)"
   ]
  },
  {
   "cell_type": "markdown",
   "metadata": {},
   "source": [
    "Activation function takes every neuron as linear neuron input and generates a nonlinear output based in it, often deterministically. Sigmid activation function uses the above formula and also known as the logistic curve.\n",
    "\n",
    "As in the plot the function slowly increases over time, but the greatest increase can be found around x=0. The range of the function is (0,1) i.e, towards high values for x the funciton therefore approaches 1, but never equals it. [11]"
   ]
  },
  {
   "cell_type": "markdown",
   "metadata": {},
   "source": [
    "<b>Sigmoid Curve Model Dataset Pre-Processing</b>"
   ]
  },
  {
   "cell_type": "code",
   "execution_count": 21,
   "metadata": {},
   "outputs": [],
   "source": [
    "# Create sigmoid curve df\n",
    "Sigmoid_power_data = Power_data.copy()\n",
    "\n",
    "# Divide the data into input and output values. Code adapted from https://stackoverflow.com/a/64042705\n",
    "x_S = Sigmoid_power_data['speed'].values\n",
    "y_S = Sigmoid_power_data['power'].values\n",
    "\n",
    "# Split the dataset into training and test datasets. Code adapted from\n",
    "# https://scikit-learn.org/stable/modules/generated/sklearn.model_selection.train_test_split.html\n",
    "x_train_S, x_test_S, y_train_S, y_test_S = train_test_split(x_S, y_S, test_size= 0.3, random_state=0)\n",
    "\n",
    "# Set power output value normalisation scaler values, to approximate upper asymptote [9]\n",
    "SpoF = 100\n",
    "\n",
    "# normalise output values\n",
    "y_train_S = y_train_S / SpoF\n",
    "y_test_S = y_test_S / SpoF"
   ]
  },
  {
   "cell_type": "markdown",
   "metadata": {},
   "source": [
    "<b>Sigmoid Curve Model Training</b>"
   ]
  },
  {
   "cell_type": "code",
   "execution_count": 22,
   "metadata": {},
   "outputs": [],
   "source": [
    "# Create sigmoid curve model. Code adapted from https://stackoverflow.com/a/4308333 &\n",
    "# https://docs.scipy.org/doc/scipy/reference/generated/scipy.optimize.curve_fit.html\n",
    "\n",
    "# Define a function for sigmoid output\n",
    "def sigmoid(x, k, x0):\n",
    "    \"\"\" Function to return scaled (0 to 1) power output based\n",
    "        on input 'x', a numpy array of wind speed number/s with\n",
    "        'k' and 'x0' number modifiers from the scipy curve_fit function\n",
    "    \"\"\"\n",
    "    return 1.0 / (1 + np.exp(-k * (x - x0)))\n",
    "\n",
    "# Fit the training data to the curve\n",
    "popt, pcov = curve_fit(sigmoid, x_train_S, y_train_S)\n",
    "\n",
    "# Extract the scipy curve_fit function 'k' and 'x0'\n",
    "# number modifiers from the fitted curve\n",
    "est_k, est_x0 = popt\n",
    "\n",
    "# Predict the fitted curve values for the training and test datasets using\n",
    "# the extracted scipy curve_fit function 'k' and 'x0'\n",
    "# number modifiers from the fitted curve\n",
    "y_train_S_predict = sigmoid(x_train_S, k=est_k, x0=est_x0)*SpoF\n",
    "y_test_S_predict = sigmoid(x_test_S, k=est_k, x0=est_x0)*SpoF"
   ]
  },
  {
   "cell_type": "markdown",
   "metadata": {},
   "source": [
    "<b>Sigmoid Curve Model Testing</b>"
   ]
  },
  {
   "cell_type": "code",
   "execution_count": 23,
   "metadata": {},
   "outputs": [
    {
     "name": "stdout",
     "output_type": "stream",
     "text": [
      "Sigmoid curve fiting Mean Squared Error for training model is 4079.801\n",
      "Sigmoid curve fiting Mean Squared Error for testing data is 3890.338\n",
      "\n",
      "Wind speed of 20 using the Sigmoid model gives power of: 97.989\n"
     ]
    }
   ],
   "source": [
    "# Check Mean Squared error for training and test datasets\n",
    "print(f\"Sigmoid curve fiting Mean Squared Error for training model is {skme.mean_squared_error(y_train_S, y_train_S_predict):.3f}\")\n",
    "print(f\"Sigmoid curve fiting Mean Squared Error for testing data is {skme.mean_squared_error(y_test_S, y_test_S_predict):.3f}\")\n",
    "\n",
    "# Testing of the model prediction\n",
    "print(f\"\\nWind speed of 20 using the Sigmoid model gives power of: {sigmoid(np.array([20]), k=est_k, x0=est_x0)[0]*SpoF:.3f}\")"
   ]
  },
  {
   "cell_type": "markdown",
   "metadata": {},
   "source": [
    "<b>Sigmoid Curve Model Display Plot using Train and Test Dataset </b>"
   ]
  },
  {
   "cell_type": "code",
   "execution_count": 24,
   "metadata": {},
   "outputs": [
    {
     "data": {
      "image/png": "[encoded data removed]",
      "text/plain": [
       "<Figure size 576x432 with 1 Axes>"
      ]
     },
     "metadata": {
      "needs_background": "light"
     },
     "output_type": "display_data"
    }
   ],
   "source": [
    "# Plot training dataset comparison\n",
    "plt.plot(x_train_S, y_train_S*SpoF, 'bx', label='actual')\n",
    "plt.plot(x_train_S, y_train_S_predict, 'gx', label='prediction')\n",
    "plt.title(\"Comparison of Training Dataset versus Model Predictions\", fontsize = 16)\n",
    "plt.xlabel(\"Wind Speed\")\n",
    "plt.ylabel(\"Power Output\")\n",
    "plt.legend();"
   ]
  },
  {
   "cell_type": "code",
   "execution_count": 25,
   "metadata": {},
   "outputs": [
    {
     "data": {
      "image/png": "[encoded data removed]",
      "text/plain": [
       "<Figure size 576x432 with 1 Axes>"
      ]
     },
     "metadata": {
      "needs_background": "light"
     },
     "output_type": "display_data"
    }
   ],
   "source": [
    "# Plot testing dataset comparison\n",
    "plt.plot(x_test_S, y_test_S*SpoF, 'bx', label='actual')\n",
    "plt.plot(x_test_S, y_test_S_predict, 'gx', label='prediction')\n",
    "plt.title(\"Comparison of Testing Dataset versus Model Predictions\", fontsize = 16)\n",
    "plt.xlabel(\"Wind Speed\")\n",
    "plt.ylabel(\"Power Output\")\n",
    "plt.legend();"
   ]
  },
  {
   "cell_type": "markdown",
   "metadata": {},
   "source": [
    "#### Prepare Dataset for Keras Model:\n",
    "\n",
    "The following models use the python tensorflow Keras machine learning module to train the models on one part of the dataset and use the remaining part of the dataset to test the model."
   ]
  },
  {
   "cell_type": "code",
   "execution_count": 26,
   "metadata": {},
   "outputs": [],
   "source": [
    "# Normalise the data for use in Keras neural network models\n",
    "\n",
    "# Set normalisation factors [12]\n",
    "Speed_F = 25\n",
    "Power_F = 120\n",
    "\n",
    "# Apply normalisation to the input speeds\n",
    "Power_data_Normalise = Power_data.copy()\n",
    "Power_data_Normalise['speed'] = Power_data_Normalise['speed']/Speed_F\n",
    "Power_data_Normalise['power'] = Power_data_Normalise['power']/Power_F\n",
    "\n",
    "# Divide the data into training and testing sets. Code adapted from\n",
    "# https://www.geeksforgeeks.org/divide-a-pandas-dataframe-randomly-in-a-given-ratio/\n",
    "# Creating a training dataframe with 70% ratio of\n",
    "train = Power_data_Normalise.sample(frac = 0.7)\n",
    "  \n",
    "# Creating testing dataframe with rest of the 30% values \n",
    "test = Power_data_Normalise.drop(train.index)"
   ]
  },
  {
   "cell_type": "code",
   "execution_count": 27,
   "metadata": {},
   "outputs": [
    {
     "data": {
      "image/png": "[encoded data removed]",
      "text/plain": [
       "<Figure size 576x432 with 1 Axes>"
      ]
     },
     "metadata": {
      "needs_background": "light"
     },
     "output_type": "display_data"
    }
   ],
   "source": [
    "\n",
    "# Plot of training and test data\n",
    "plt.plot(train['speed'], train['power'], 'bx', label='Training')\n",
    "plt.plot(test['speed'], test['power'], 'rx', label='Test')\n",
    "plt.title(\"Training and Test Datasets\", fontsize = 16)\n",
    "plt.xlabel(\"Wind Speed / Speed_F\")\n",
    "plt.ylabel(\"Power Output / Power_F\")\n",
    "plt.legend();\n"
   ]
  },
  {
   "cell_type": "markdown",
   "metadata": {},
   "source": [
    "<B>Applying Keras Model</B>\n"
   ]
  },
  {
   "cell_type": "code",
   "execution_count": 28,
   "metadata": {},
   "outputs": [
    {
     "name": "stdout",
     "output_type": "stream",
     "text": [
      "(291, 1)\n",
      "(291,)\n",
      "(98, 1)\n",
      "(98,)\n",
      "(97, 1)\n",
      "(97,)\n"
     ]
    }
   ],
   "source": [
    "#code adopted from https://stackabuse.com/deep-learning-in-keras-building-a-deep-learning-model/\n",
    "# Need x and y in correct format.\n",
    "X = Power_data[[\"speed\"]] # note dimensions\n",
    "y = Power_data[\"power\"]\n",
    "\n",
    "# Split the data set into train/set. 80:20 split\n",
    "X_train, X_test, y_train, y_test = train_test_split(X, y, test_size = 0.2)\n",
    "\n",
    "# Take some of the training set to be a validation set. 25% of 80 = 60 \n",
    "# Want train:test:validation = 60:20:20\n",
    "X_train, X_val, y_train, y_val = train_test_split(X_train, y_train, test_size=0.25)\n",
    "print(X_train.shape)\n",
    "print(y_train.shape)\n",
    "print(X_test.shape)\n",
    "print(y_test.shape)\n",
    "print(X_val.shape)\n",
    "print(y_val.shape)"
   ]
  },
  {
   "cell_type": "code",
   "execution_count": 29,
   "metadata": {},
   "outputs": [
    {
     "name": "stdout",
     "output_type": "stream",
     "text": [
      "Keras Main Model Summary\n",
      "============================\n",
      "Model: \"sequential\"\n",
      "_________________________________________________________________\n",
      "Layer (type)                 Output Shape              Param #   \n",
      "=================================================================\n",
      "dense (Dense)                (None, 20)                40        \n",
      "_________________________________________________________________\n",
      "dense_1 (Dense)              (None, 20)                420       \n",
      "_________________________________________________________________\n",
      "dense_2 (Dense)              (None, 1)                 21        \n",
      "=================================================================\n",
      "Total params: 481\n",
      "Trainable params: 481\n",
      "Non-trainable params: 0\n",
      "_________________________________________________________________\n"
     ]
    }
   ],
   "source": [
    "# Create basic Keras main model Code adpted from https://stackoverflow.com/a/59148584\n",
    "model = kr.models.Sequential()\n",
    "# Add 1st Hidden layer\n",
    "model.add(kr.layers.Dense(20, input_shape=(1,), activation=\"sigmoid\", kernel_initializer=\"glorot_uniform\", bias_initializer=\"glorot_uniform\"))\n",
    "# Add 2nd Hidden layer\n",
    "model.add(kr.layers.Dense(20, activation=\"sigmoid\", kernel_initializer=\"glorot_uniform\", bias_initializer=\"glorot_uniform\"))\n",
    "# Add Output layer\n",
    "model.add(kr.layers.Dense(1, activation=\"sigmoid\", kernel_initializer=\"glorot_uniform\", bias_initializer=\"glorot_uniform\"))\n",
    "# Compile model\n",
    "#model.compile('adam', loss='mean_squared_error')\n",
    "model.compile('adam', loss='mean_squared_error',metrics=['accuracy'])\n",
    "print(\"Keras Main Model Summary\")\n",
    "print(\"============================\")\n",
    "model.summary()\n",
    "\n"
   ]
  },
  {
   "cell_type": "markdown",
   "metadata": {},
   "source": [
    "Once the model is designed, we must compile it to specify the learning rate and loss function, the quantity we are trying to minimize in through training of the network."
   ]
  },
  {
   "cell_type": "code",
   "execution_count": 30,
   "metadata": {},
   "outputs": [
    {
     "name": "stdout",
     "output_type": "stream",
     "text": [
      "Epoch 1/500\n",
      "34/34 [==============================] - 0s 441us/step - loss: 0.1185 - accuracy: 0.0706\n",
      "Epoch 2/500\n",
      "34/34 [==============================] - 0s 471us/step - loss: 0.1182 - accuracy: 0.0706\n",
      "Epoch 3/500\n",
      "34/34 [==============================] - 0s 441us/step - loss: 0.1168 - accuracy: 0.0706\n",
      "Epoch 4/500\n",
      "34/34 [==============================] - 0s 412us/step - loss: 0.1159 - accuracy: 0.0706\n",
      "Epoch 5/500\n",
      "34/34 [==============================] - 0s 441us/step - loss: 0.1157 - accuracy: 0.0706\n",
      "Epoch 6/500\n",
      "34/34 [==============================] - 0s 412us/step - loss: 0.1148 - accuracy: 0.0706\n",
      "Epoch 7/500\n",
      "34/34 [==============================] - 0s 441us/step - loss: 0.1135 - accuracy: 0.0706\n",
      "Epoch 8/500\n",
      "34/34 [==============================] - 0s 412us/step - loss: 0.1117 - accuracy: 0.0706\n",
      "Epoch 9/500\n",
      "34/34 [==============================] - 0s 412us/step - loss: 0.1110 - accuracy: 0.0706\n",
      "Epoch 10/500\n",
      "34/34 [==============================] - 0s 441us/step - loss: 0.1094 - accuracy: 0.0706\n",
      "Epoch 11/500\n",
      "34/34 [==============================] - 0s 441us/step - loss: 0.1071 - accuracy: 0.0706\n",
      "Epoch 12/500\n",
      "34/34 [==============================] - 0s 441us/step - loss: 0.1051 - accuracy: 0.0706\n",
      "Epoch 13/500\n",
      "34/34 [==============================] - 0s 441us/step - loss: 0.1028 - accuracy: 0.0706\n",
      "Epoch 14/500\n",
      "34/34 [==============================] - 0s 412us/step - loss: 0.1002 - accuracy: 0.0706\n",
      "Epoch 15/500\n",
      "34/34 [==============================] - 0s 441us/step - loss: 0.0972 - accuracy: 0.0706\n",
      "Epoch 16/500\n",
      "34/34 [==============================] - 0s 441us/step - loss: 0.0936 - accuracy: 0.0706\n",
      "Epoch 17/500\n",
      "34/34 [==============================] - 0s 441us/step - loss: 0.0905 - accuracy: 0.0706\n",
      "Epoch 18/500\n",
      "34/34 [==============================] - 0s 441us/step - loss: 0.0861 - accuracy: 0.0706\n",
      "Epoch 19/500\n",
      "34/34 [==============================] - 0s 441us/step - loss: 0.0812 - accuracy: 0.0706\n",
      "Epoch 20/500\n",
      "34/34 [==============================] - 0s 441us/step - loss: 0.0763 - accuracy: 0.0706\n",
      "Epoch 21/500\n",
      "34/34 [==============================] - 0s 441us/step - loss: 0.0706 - accuracy: 0.0706\n",
      "Epoch 22/500\n",
      "34/34 [==============================] - 0s 441us/step - loss: 0.0648 - accuracy: 0.0706\n",
      "Epoch 23/500\n",
      "34/34 [==============================] - 0s 412us/step - loss: 0.0588 - accuracy: 0.0706\n",
      "Epoch 24/500\n",
      "34/34 [==============================] - 0s 441us/step - loss: 0.0531 - accuracy: 0.0706\n",
      "Epoch 25/500\n",
      "34/34 [==============================] - 0s 441us/step - loss: 0.0476 - accuracy: 0.0706\n",
      "Epoch 26/500\n",
      "34/34 [==============================] - 0s 441us/step - loss: 0.0423 - accuracy: 0.0706\n",
      "Epoch 27/500\n",
      "34/34 [==============================] - 0s 441us/step - loss: 0.0368 - accuracy: 0.0706\n",
      "Epoch 28/500\n",
      "34/34 [==============================] - 0s 441us/step - loss: 0.0325 - accuracy: 0.0706\n",
      "Epoch 29/500\n",
      "34/34 [==============================] - 0s 441us/step - loss: 0.0285 - accuracy: 0.0706\n",
      "Epoch 30/500\n",
      "34/34 [==============================] - 0s 441us/step - loss: 0.0248 - accuracy: 0.0706\n",
      "Epoch 31/500\n",
      "34/34 [==============================] - 0s 441us/step - loss: 0.0218 - accuracy: 0.0706\n",
      "Epoch 32/500\n",
      "34/34 [==============================] - 0s 500us/step - loss: 0.0192 - accuracy: 0.0706\n",
      "Epoch 33/500\n",
      "34/34 [==============================] - 0s 441us/step - loss: 0.0168 - accuracy: 0.0706\n",
      "Epoch 34/500\n",
      "34/34 [==============================] - 0s 441us/step - loss: 0.0149 - accuracy: 0.0706\n",
      "Epoch 35/500\n",
      "34/34 [==============================] - 0s 412us/step - loss: 0.0132 - accuracy: 0.0706\n",
      "Epoch 36/500\n",
      "34/34 [==============================] - 0s 441us/step - loss: 0.0118 - accuracy: 0.0706\n",
      "Epoch 37/500\n",
      "34/34 [==============================] - 0s 412us/step - loss: 0.0105 - accuracy: 0.0706\n",
      "Epoch 38/500\n",
      "34/34 [==============================] - 0s 441us/step - loss: 0.0095 - accuracy: 0.0706\n",
      "Epoch 39/500\n",
      "34/34 [==============================] - 0s 441us/step - loss: 0.0086 - accuracy: 0.0706\n",
      "Epoch 40/500\n",
      "34/34 [==============================] - 0s 412us/step - loss: 0.0079 - accuracy: 0.0706\n",
      "Epoch 41/500\n",
      "34/34 [==============================] - 0s 441us/step - loss: 0.0072 - accuracy: 0.0706\n",
      "Epoch 42/500\n",
      "34/34 [==============================] - 0s 412us/step - loss: 0.0067 - accuracy: 0.0706\n",
      "Epoch 43/500\n",
      "34/34 [==============================] - 0s 441us/step - loss: 0.0061 - accuracy: 0.0706\n",
      "Epoch 44/500\n",
      "34/34 [==============================] - 0s 412us/step - loss: 0.0057 - accuracy: 0.0706\n",
      "Epoch 45/500\n",
      "34/34 [==============================] - 0s 441us/step - loss: 0.0053 - accuracy: 0.0706\n",
      "Epoch 46/500\n",
      "34/34 [==============================] - 0s 412us/step - loss: 0.0051 - accuracy: 0.0706\n",
      "Epoch 47/500\n",
      "34/34 [==============================] - 0s 412us/step - loss: 0.0048 - accuracy: 0.0706\n",
      "Epoch 48/500\n",
      "34/34 [==============================] - 0s 441us/step - loss: 0.0046 - accuracy: 0.0706\n",
      "Epoch 49/500\n",
      "34/34 [==============================] - 0s 412us/step - loss: 0.0043 - accuracy: 0.0706\n",
      "Epoch 50/500\n",
      "34/34 [==============================] - 0s 441us/step - loss: 0.0042 - accuracy: 0.0706\n",
      "Epoch 51/500\n",
      "34/34 [==============================] - 0s 412us/step - loss: 0.0040 - accuracy: 0.0706\n",
      "Epoch 52/500\n",
      "34/34 [==============================] - 0s 412us/step - loss: 0.0038 - accuracy: 0.0706\n",
      "Epoch 53/500\n",
      "34/34 [==============================] - 0s 412us/step - loss: 0.0037 - accuracy: 0.0706\n",
      "Epoch 54/500\n",
      "34/34 [==============================] - 0s 441us/step - loss: 0.0036 - accuracy: 0.0706\n",
      "Epoch 55/500\n",
      "34/34 [==============================] - 0s 441us/step - loss: 0.0035 - accuracy: 0.0706\n",
      "Epoch 56/500\n",
      "34/34 [==============================] - 0s 441us/step - loss: 0.0034 - accuracy: 0.0706\n",
      "Epoch 57/500\n",
      "34/34 [==============================] - 0s 441us/step - loss: 0.0034 - accuracy: 0.0706\n",
      "Epoch 58/500\n",
      "34/34 [==============================] - 0s 441us/step - loss: 0.0033 - accuracy: 0.0706\n",
      "Epoch 59/500\n",
      "34/34 [==============================] - 0s 412us/step - loss: 0.0032 - accuracy: 0.0706\n",
      "Epoch 60/500\n",
      "34/34 [==============================] - 0s 441us/step - loss: 0.0032 - accuracy: 0.0706\n",
      "Epoch 61/500\n",
      "34/34 [==============================] - 0s 442us/step - loss: 0.0031 - accuracy: 0.0706\n",
      "Epoch 62/500\n",
      "34/34 [==============================] - 0s 412us/step - loss: 0.0031 - accuracy: 0.0706\n",
      "Epoch 63/500\n",
      "34/34 [==============================] - 0s 412us/step - loss: 0.0031 - accuracy: 0.0706\n",
      "Epoch 64/500\n",
      "34/34 [==============================] - 0s 441us/step - loss: 0.0030 - accuracy: 0.0706\n",
      "Epoch 65/500\n",
      "34/34 [==============================] - 0s 441us/step - loss: 0.0030 - accuracy: 0.0706\n",
      "Epoch 66/500\n",
      "34/34 [==============================] - 0s 412us/step - loss: 0.0030 - accuracy: 0.0706\n",
      "Epoch 67/500\n",
      "34/34 [==============================] - 0s 412us/step - loss: 0.0030 - accuracy: 0.0706\n",
      "Epoch 68/500\n",
      "34/34 [==============================] - 0s 441us/step - loss: 0.0029 - accuracy: 0.0706\n",
      "Epoch 69/500\n",
      "34/34 [==============================] - 0s 412us/step - loss: 0.0029 - accuracy: 0.0706\n",
      "Epoch 70/500\n",
      "34/34 [==============================] - 0s 441us/step - loss: 0.0029 - accuracy: 0.0706\n",
      "Epoch 71/500\n",
      "34/34 [==============================] - 0s 441us/step - loss: 0.0029 - accuracy: 0.0706\n",
      "Epoch 72/500\n",
      "34/34 [==============================] - 0s 441us/step - loss: 0.0028 - accuracy: 0.0706\n",
      "Epoch 73/500\n",
      "34/34 [==============================] - 0s 441us/step - loss: 0.0028 - accuracy: 0.0706\n",
      "Epoch 74/500\n",
      "34/34 [==============================] - 0s 412us/step - loss: 0.0028 - accuracy: 0.0706\n",
      "Epoch 75/500\n",
      "34/34 [==============================] - 0s 412us/step - loss: 0.0028 - accuracy: 0.0706\n",
      "Epoch 76/500\n",
      "34/34 [==============================] - 0s 412us/step - loss: 0.0028 - accuracy: 0.0706\n",
      "Epoch 77/500\n",
      "34/34 [==============================] - 0s 412us/step - loss: 0.0028 - accuracy: 0.0706\n",
      "Epoch 78/500\n",
      "34/34 [==============================] - 0s 441us/step - loss: 0.0028 - accuracy: 0.0706\n",
      "Epoch 79/500\n",
      "34/34 [==============================] - 0s 441us/step - loss: 0.0027 - accuracy: 0.0706\n",
      "Epoch 80/500\n",
      "34/34 [==============================] - 0s 441us/step - loss: 0.0027 - accuracy: 0.0706\n",
      "Epoch 81/500\n"
     ]
    },
    {
     "name": "stdout",
     "output_type": "stream",
     "text": [
      "34/34 [==============================] - 0s 441us/step - loss: 0.0027 - accuracy: 0.0706\n",
      "Epoch 82/500\n",
      "34/34 [==============================] - 0s 412us/step - loss: 0.0027 - accuracy: 0.0706\n",
      "Epoch 83/500\n",
      "34/34 [==============================] - 0s 441us/step - loss: 0.0027 - accuracy: 0.0706\n",
      "Epoch 84/500\n",
      "34/34 [==============================] - 0s 412us/step - loss: 0.0027 - accuracy: 0.0706\n",
      "Epoch 85/500\n",
      "34/34 [==============================] - 0s 412us/step - loss: 0.0026 - accuracy: 0.0706\n",
      "Epoch 86/500\n",
      "34/34 [==============================] - 0s 471us/step - loss: 0.0026 - accuracy: 0.0706\n",
      "Epoch 87/500\n",
      "34/34 [==============================] - 0s 441us/step - loss: 0.0026 - accuracy: 0.0706\n",
      "Epoch 88/500\n",
      "34/34 [==============================] - 0s 441us/step - loss: 0.0026 - accuracy: 0.0706\n",
      "Epoch 89/500\n",
      "34/34 [==============================] - 0s 441us/step - loss: 0.0026 - accuracy: 0.0706\n",
      "Epoch 90/500\n",
      "34/34 [==============================] - 0s 412us/step - loss: 0.0026 - accuracy: 0.0706\n",
      "Epoch 91/500\n",
      "34/34 [==============================] - 0s 441us/step - loss: 0.0026 - accuracy: 0.0706\n",
      "Epoch 92/500\n",
      "34/34 [==============================] - 0s 412us/step - loss: 0.0026 - accuracy: 0.0706\n",
      "Epoch 93/500\n",
      "34/34 [==============================] - 0s 441us/step - loss: 0.0026 - accuracy: 0.0706\n",
      "Epoch 94/500\n",
      "34/34 [==============================] - 0s 441us/step - loss: 0.0025 - accuracy: 0.0706\n",
      "Epoch 95/500\n",
      "34/34 [==============================] - 0s 412us/step - loss: 0.0026 - accuracy: 0.0706\n",
      "Epoch 96/500\n",
      "34/34 [==============================] - 0s 412us/step - loss: 0.0025 - accuracy: 0.0706\n",
      "Epoch 97/500\n",
      "34/34 [==============================] - 0s 441us/step - loss: 0.0025 - accuracy: 0.0706\n",
      "Epoch 98/500\n",
      "34/34 [==============================] - 0s 441us/step - loss: 0.0026 - accuracy: 0.0706\n",
      "Epoch 99/500\n",
      "34/34 [==============================] - 0s 441us/step - loss: 0.0025 - accuracy: 0.0706\n",
      "Epoch 100/500\n",
      "34/34 [==============================] - 0s 412us/step - loss: 0.0025 - accuracy: 0.0706  \n",
      "Epoch 101/500\n",
      "34/34 [==============================] - 0s 412us/step - loss: 0.0025 - accuracy: 0.0706\n",
      "Epoch 102/500\n",
      "34/34 [==============================] - 0s 441us/step - loss: 0.0025 - accuracy: 0.0706\n",
      "Epoch 103/500\n",
      "34/34 [==============================] - 0s 441us/step - loss: 0.0024 - accuracy: 0.0706\n",
      "Epoch 104/500\n",
      "34/34 [==============================] - 0s 441us/step - loss: 0.0025 - accuracy: 0.0706\n",
      "Epoch 105/500\n",
      "34/34 [==============================] - 0s 412us/step - loss: 0.0024 - accuracy: 0.0706\n",
      "Epoch 106/500\n",
      "34/34 [==============================] - 0s 441us/step - loss: 0.0024 - accuracy: 0.0706\n",
      "Epoch 107/500\n",
      "34/34 [==============================] - 0s 412us/step - loss: 0.0024 - accuracy: 0.0706\n",
      "Epoch 108/500\n",
      "34/34 [==============================] - 0s 441us/step - loss: 0.0024 - accuracy: 0.0706\n",
      "Epoch 109/500\n",
      "34/34 [==============================] - 0s 412us/step - loss: 0.0024 - accuracy: 0.0706\n",
      "Epoch 110/500\n",
      "34/34 [==============================] - 0s 441us/step - loss: 0.0023 - accuracy: 0.0706\n",
      "Epoch 111/500\n",
      "34/34 [==============================] - 0s 441us/step - loss: 0.0023 - accuracy: 0.0706\n",
      "Epoch 112/500\n",
      "34/34 [==============================] - 0s 412us/step - loss: 0.0024 - accuracy: 0.0706\n",
      "Epoch 113/500\n",
      "34/34 [==============================] - 0s 441us/step - loss: 0.0024 - accuracy: 0.0706\n",
      "Epoch 114/500\n",
      "34/34 [==============================] - 0s 412us/step - loss: 0.0024 - accuracy: 0.0706\n",
      "Epoch 115/500\n",
      "34/34 [==============================] - 0s 441us/step - loss: 0.0023 - accuracy: 0.0706\n",
      "Epoch 116/500\n",
      "34/34 [==============================] - 0s 471us/step - loss: 0.0023 - accuracy: 0.0706\n",
      "Epoch 117/500\n",
      "34/34 [==============================] - 0s 412us/step - loss: 0.0023 - accuracy: 0.0706\n",
      "Epoch 118/500\n",
      "34/34 [==============================] - 0s 441us/step - loss: 0.0023 - accuracy: 0.0706\n",
      "Epoch 119/500\n",
      "34/34 [==============================] - 0s 412us/step - loss: 0.0023 - accuracy: 0.0706\n",
      "Epoch 120/500\n",
      "34/34 [==============================] - 0s 441us/step - loss: 0.0023 - accuracy: 0.0706\n",
      "Epoch 121/500\n",
      "34/34 [==============================] - 0s 412us/step - loss: 0.0022 - accuracy: 0.0706\n",
      "Epoch 122/500\n",
      "34/34 [==============================] - 0s 441us/step - loss: 0.0022 - accuracy: 0.0706\n",
      "Epoch 123/500\n",
      "34/34 [==============================] - 0s 412us/step - loss: 0.0022 - accuracy: 0.0706\n",
      "Epoch 124/500\n",
      "34/34 [==============================] - 0s 441us/step - loss: 0.0022 - accuracy: 0.0706\n",
      "Epoch 125/500\n",
      "34/34 [==============================] - 0s 412us/step - loss: 0.0022 - accuracy: 0.0706\n",
      "Epoch 126/500\n",
      "34/34 [==============================] - 0s 441us/step - loss: 0.0022 - accuracy: 0.0706\n",
      "Epoch 127/500\n",
      "34/34 [==============================] - 0s 412us/step - loss: 0.0022 - accuracy: 0.0706\n",
      "Epoch 128/500\n",
      "34/34 [==============================] - 0s 441us/step - loss: 0.0022 - accuracy: 0.0706\n",
      "Epoch 129/500\n",
      "34/34 [==============================] - 0s 441us/step - loss: 0.0022 - accuracy: 0.0706\n",
      "Epoch 130/500\n",
      "34/34 [==============================] - 0s 441us/step - loss: 0.0022 - accuracy: 0.0706\n",
      "Epoch 131/500\n",
      "34/34 [==============================] - 0s 441us/step - loss: 0.0022 - accuracy: 0.0706\n",
      "Epoch 132/500\n",
      "34/34 [==============================] - 0s 441us/step - loss: 0.0021 - accuracy: 0.0706\n",
      "Epoch 133/500\n",
      "34/34 [==============================] - 0s 441us/step - loss: 0.0021 - accuracy: 0.0706\n",
      "Epoch 134/500\n",
      "34/34 [==============================] - 0s 412us/step - loss: 0.0021 - accuracy: 0.0706\n",
      "Epoch 135/500\n",
      "34/34 [==============================] - 0s 441us/step - loss: 0.0021 - accuracy: 0.0706\n",
      "Epoch 136/500\n",
      "34/34 [==============================] - 0s 412us/step - loss: 0.0021 - accuracy: 0.0706\n",
      "Epoch 137/500\n",
      "34/34 [==============================] - 0s 441us/step - loss: 0.0021 - accuracy: 0.0706  \n",
      "Epoch 138/500\n",
      "34/34 [==============================] - 0s 441us/step - loss: 0.0021 - accuracy: 0.0706\n",
      "Epoch 139/500\n",
      "34/34 [==============================] - 0s 412us/step - loss: 0.0021 - accuracy: 0.0706\n",
      "Epoch 140/500\n",
      "34/34 [==============================] - 0s 412us/step - loss: 0.0021 - accuracy: 0.0706\n",
      "Epoch 141/500\n",
      "34/34 [==============================] - 0s 441us/step - loss: 0.0020 - accuracy: 0.0706\n",
      "Epoch 142/500\n",
      "34/34 [==============================] - 0s 441us/step - loss: 0.0021 - accuracy: 0.0706\n",
      "Epoch 143/500\n",
      "34/34 [==============================] - 0s 441us/step - loss: 0.0021 - accuracy: 0.0706\n",
      "Epoch 144/500\n",
      "34/34 [==============================] - 0s 441us/step - loss: 0.0020 - accuracy: 0.0706\n",
      "Epoch 145/500\n",
      "34/34 [==============================] - 0s 441us/step - loss: 0.0020 - accuracy: 0.0706\n",
      "Epoch 146/500\n",
      "34/34 [==============================] - 0s 441us/step - loss: 0.0020 - accuracy: 0.0706\n",
      "Epoch 147/500\n",
      "34/34 [==============================] - 0s 441us/step - loss: 0.0020 - accuracy: 0.0706\n",
      "Epoch 148/500\n",
      "34/34 [==============================] - 0s 412us/step - loss: 0.0020 - accuracy: 0.0706\n",
      "Epoch 149/500\n",
      "34/34 [==============================] - 0s 441us/step - loss: 0.0020 - accuracy: 0.0706\n",
      "Epoch 150/500\n",
      "34/34 [==============================] - 0s 412us/step - loss: 0.0020 - accuracy: 0.0706\n",
      "Epoch 151/500\n",
      "34/34 [==============================] - 0s 412us/step - loss: 0.0020 - accuracy: 0.0706\n",
      "Epoch 152/500\n",
      "34/34 [==============================] - 0s 441us/step - loss: 0.0020 - accuracy: 0.0706\n",
      "Epoch 153/500\n",
      "34/34 [==============================] - 0s 441us/step - loss: 0.0019 - accuracy: 0.0706\n",
      "Epoch 154/500\n",
      "34/34 [==============================] - 0s 441us/step - loss: 0.0019 - accuracy: 0.0706\n",
      "Epoch 155/500\n",
      "34/34 [==============================] - 0s 412us/step - loss: 0.0019 - accuracy: 0.0706\n",
      "Epoch 156/500\n",
      "34/34 [==============================] - 0s 441us/step - loss: 0.0019 - accuracy: 0.0706\n",
      "Epoch 157/500\n",
      "34/34 [==============================] - 0s 412us/step - loss: 0.0020 - accuracy: 0.0706\n",
      "Epoch 158/500\n",
      "34/34 [==============================] - 0s 441us/step - loss: 0.0020 - accuracy: 0.0706\n",
      "Epoch 159/500\n",
      "34/34 [==============================] - 0s 441us/step - loss: 0.0020 - accuracy: 0.0706\n",
      "Epoch 160/500\n"
     ]
    },
    {
     "name": "stdout",
     "output_type": "stream",
     "text": [
      "34/34 [==============================] - 0s 441us/step - loss: 0.0019 - accuracy: 0.0706\n",
      "Epoch 161/500\n",
      "34/34 [==============================] - 0s 412us/step - loss: 0.0019 - accuracy: 0.0706\n",
      "Epoch 162/500\n",
      "34/34 [==============================] - 0s 441us/step - loss: 0.0019 - accuracy: 0.0706  \n",
      "Epoch 163/500\n",
      "34/34 [==============================] - 0s 441us/step - loss: 0.0019 - accuracy: 0.0706  \n",
      "Epoch 164/500\n",
      "34/34 [==============================] - 0s 412us/step - loss: 0.0019 - accuracy: 0.0706\n",
      "Epoch 165/500\n",
      "34/34 [==============================] - 0s 441us/step - loss: 0.0019 - accuracy: 0.0706\n",
      "Epoch 166/500\n",
      "34/34 [==============================] - 0s 441us/step - loss: 0.0019 - accuracy: 0.0706\n",
      "Epoch 167/500\n",
      "34/34 [==============================] - 0s 412us/step - loss: 0.0019 - accuracy: 0.0706\n",
      "Epoch 168/500\n",
      "34/34 [==============================] - 0s 441us/step - loss: 0.0018 - accuracy: 0.0706\n",
      "Epoch 169/500\n",
      "34/34 [==============================] - 0s 441us/step - loss: 0.0018 - accuracy: 0.0706\n",
      "Epoch 170/500\n",
      "34/34 [==============================] - 0s 441us/step - loss: 0.0018 - accuracy: 0.0706\n",
      "Epoch 171/500\n",
      "34/34 [==============================] - 0s 441us/step - loss: 0.0018 - accuracy: 0.0706\n",
      "Epoch 172/500\n",
      "34/34 [==============================] - 0s 412us/step - loss: 0.0018 - accuracy: 0.0706\n",
      "Epoch 173/500\n",
      "34/34 [==============================] - 0s 441us/step - loss: 0.0018 - accuracy: 0.0706\n",
      "Epoch 174/500\n",
      "34/34 [==============================] - 0s 441us/step - loss: 0.0018 - accuracy: 0.0706\n",
      "Epoch 175/500\n",
      "34/34 [==============================] - 0s 441us/step - loss: 0.0018 - accuracy: 0.0706\n",
      "Epoch 176/500\n",
      "34/34 [==============================] - 0s 471us/step - loss: 0.0018 - accuracy: 0.0706\n",
      "Epoch 177/500\n",
      "34/34 [==============================] - 0s 441us/step - loss: 0.0018 - accuracy: 0.0706\n",
      "Epoch 178/500\n",
      "34/34 [==============================] - 0s 441us/step - loss: 0.0018 - accuracy: 0.0706\n",
      "Epoch 179/500\n",
      "34/34 [==============================] - 0s 441us/step - loss: 0.0018 - accuracy: 0.0706\n",
      "Epoch 180/500\n",
      "34/34 [==============================] - 0s 441us/step - loss: 0.0018 - accuracy: 0.0706  \n",
      "Epoch 181/500\n",
      "34/34 [==============================] - 0s 441us/step - loss: 0.0018 - accuracy: 0.0706\n",
      "Epoch 182/500\n",
      "34/34 [==============================] - 0s 412us/step - loss: 0.0018 - accuracy: 0.0706\n",
      "Epoch 183/500\n",
      "34/34 [==============================] - 0s 441us/step - loss: 0.0018 - accuracy: 0.0706\n",
      "Epoch 184/500\n",
      "34/34 [==============================] - 0s 441us/step - loss: 0.0018 - accuracy: 0.0706\n",
      "Epoch 185/500\n",
      "34/34 [==============================] - 0s 412us/step - loss: 0.0018 - accuracy: 0.0706\n",
      "Epoch 186/500\n",
      "34/34 [==============================] - 0s 441us/step - loss: 0.0017 - accuracy: 0.0706\n",
      "Epoch 187/500\n",
      "34/34 [==============================] - 0s 441us/step - loss: 0.0017 - accuracy: 0.0706\n",
      "Epoch 188/500\n",
      "34/34 [==============================] - 0s 441us/step - loss: 0.0017 - accuracy: 0.0706\n",
      "Epoch 189/500\n",
      "34/34 [==============================] - 0s 412us/step - loss: 0.0017 - accuracy: 0.0706\n",
      "Epoch 190/500\n",
      "34/34 [==============================] - 0s 412us/step - loss: 0.0017 - accuracy: 0.0706\n",
      "Epoch 191/500\n",
      "34/34 [==============================] - 0s 441us/step - loss: 0.0018 - accuracy: 0.0706  \n",
      "Epoch 192/500\n",
      "34/34 [==============================] - 0s 412us/step - loss: 0.0017 - accuracy: 0.0706\n",
      "Epoch 193/500\n",
      "34/34 [==============================] - 0s 441us/step - loss: 0.0017 - accuracy: 0.0706\n",
      "Epoch 194/500\n",
      "34/34 [==============================] - 0s 441us/step - loss: 0.0017 - accuracy: 0.0706\n",
      "Epoch 195/500\n",
      "34/34 [==============================] - 0s 412us/step - loss: 0.0017 - accuracy: 0.0706\n",
      "Epoch 196/500\n",
      "34/34 [==============================] - 0s 441us/step - loss: 0.0017 - accuracy: 0.0706\n",
      "Epoch 197/500\n",
      "34/34 [==============================] - 0s 412us/step - loss: 0.0017 - accuracy: 0.0706\n",
      "Epoch 198/500\n",
      "34/34 [==============================] - 0s 441us/step - loss: 0.0017 - accuracy: 0.0706\n",
      "Epoch 199/500\n",
      "34/34 [==============================] - 0s 441us/step - loss: 0.0017 - accuracy: 0.0706\n",
      "Epoch 200/500\n",
      "34/34 [==============================] - 0s 441us/step - loss: 0.0017 - accuracy: 0.0706\n",
      "Epoch 201/500\n",
      "34/34 [==============================] - 0s 412us/step - loss: 0.0017 - accuracy: 0.0706\n",
      "Epoch 202/500\n",
      "34/34 [==============================] - 0s 412us/step - loss: 0.0017 - accuracy: 0.0706\n",
      "Epoch 203/500\n",
      "34/34 [==============================] - 0s 412us/step - loss: 0.0017 - accuracy: 0.0706\n",
      "Epoch 204/500\n",
      "34/34 [==============================] - 0s 441us/step - loss: 0.0017 - accuracy: 0.0706\n",
      "Epoch 205/500\n",
      "34/34 [==============================] - 0s 412us/step - loss: 0.0017 - accuracy: 0.0706\n",
      "Epoch 206/500\n",
      "34/34 [==============================] - 0s 441us/step - loss: 0.0017 - accuracy: 0.0706\n",
      "Epoch 207/500\n",
      "34/34 [==============================] - 0s 412us/step - loss: 0.0016 - accuracy: 0.0706\n",
      "Epoch 208/500\n",
      "34/34 [==============================] - 0s 441us/step - loss: 0.0016 - accuracy: 0.0706\n",
      "Epoch 209/500\n",
      "34/34 [==============================] - 0s 441us/step - loss: 0.0016 - accuracy: 0.0706\n",
      "Epoch 210/500\n",
      "34/34 [==============================] - 0s 441us/step - loss: 0.0017 - accuracy: 0.0706  \n",
      "Epoch 211/500\n",
      "34/34 [==============================] - 0s 441us/step - loss: 0.0016 - accuracy: 0.0706\n",
      "Epoch 212/500\n",
      "34/34 [==============================] - 0s 412us/step - loss: 0.0016 - accuracy: 0.0706\n",
      "Epoch 213/500\n",
      "34/34 [==============================] - 0s 412us/step - loss: 0.0016 - accuracy: 0.0706\n",
      "Epoch 214/500\n",
      "34/34 [==============================] - 0s 412us/step - loss: 0.0016 - accuracy: 0.0706\n",
      "Epoch 215/500\n",
      "34/34 [==============================] - 0s 441us/step - loss: 0.0017 - accuracy: 0.0706\n",
      "Epoch 216/500\n",
      "34/34 [==============================] - 0s 441us/step - loss: 0.0016 - accuracy: 0.0706\n",
      "Epoch 217/500\n",
      "34/34 [==============================] - 0s 441us/step - loss: 0.0016 - accuracy: 0.0706\n",
      "Epoch 218/500\n",
      "34/34 [==============================] - 0s 441us/step - loss: 0.0016 - accuracy: 0.0706\n",
      "Epoch 219/500\n",
      "34/34 [==============================] - 0s 441us/step - loss: 0.0016 - accuracy: 0.0706\n",
      "Epoch 220/500\n",
      "34/34 [==============================] - 0s 412us/step - loss: 0.0016 - accuracy: 0.0706\n",
      "Epoch 221/500\n",
      "34/34 [==============================] - 0s 412us/step - loss: 0.0016 - accuracy: 0.0706\n",
      "Epoch 222/500\n",
      "34/34 [==============================] - 0s 441us/step - loss: 0.0016 - accuracy: 0.0706\n",
      "Epoch 223/500\n",
      "34/34 [==============================] - 0s 412us/step - loss: 0.0016 - accuracy: 0.0706\n",
      "Epoch 224/500\n",
      "34/34 [==============================] - 0s 412us/step - loss: 0.0016 - accuracy: 0.0706\n",
      "Epoch 225/500\n",
      "34/34 [==============================] - 0s 441us/step - loss: 0.0016 - accuracy: 0.0706\n",
      "Epoch 226/500\n",
      "34/34 [==============================] - 0s 441us/step - loss: 0.0016 - accuracy: 0.0706\n",
      "Epoch 227/500\n",
      "34/34 [==============================] - 0s 412us/step - loss: 0.0016 - accuracy: 0.0706  \n",
      "Epoch 228/500\n",
      "34/34 [==============================] - 0s 412us/step - loss: 0.0016 - accuracy: 0.0706\n",
      "Epoch 229/500\n",
      "34/34 [==============================] - 0s 412us/step - loss: 0.0016 - accuracy: 0.0706\n",
      "Epoch 230/500\n",
      "34/34 [==============================] - 0s 441us/step - loss: 0.0016 - accuracy: 0.0706\n",
      "Epoch 231/500\n",
      "34/34 [==============================] - 0s 412us/step - loss: 0.0016 - accuracy: 0.0706\n",
      "Epoch 232/500\n",
      "34/34 [==============================] - 0s 412us/step - loss: 0.0017 - accuracy: 0.0706\n",
      "Epoch 233/500\n",
      "34/34 [==============================] - 0s 441us/step - loss: 0.0016 - accuracy: 0.0706\n",
      "Epoch 234/500\n",
      "34/34 [==============================] - 0s 441us/step - loss: 0.0016 - accuracy: 0.0706\n",
      "Epoch 235/500\n",
      "34/34 [==============================] - 0s 412us/step - loss: 0.0016 - accuracy: 0.0706  \n",
      "Epoch 236/500\n",
      "34/34 [==============================] - 0s 441us/step - loss: 0.0016 - accuracy: 0.0706\n",
      "Epoch 237/500\n",
      "34/34 [==============================] - 0s 441us/step - loss: 0.0016 - accuracy: 0.0706\n",
      "Epoch 238/500\n",
      "34/34 [==============================] - 0s 412us/step - loss: 0.0016 - accuracy: 0.0706\n",
      "Epoch 239/500\n"
     ]
    },
    {
     "name": "stdout",
     "output_type": "stream",
     "text": [
      "34/34 [==============================] - 0s 441us/step - loss: 0.0015 - accuracy: 0.0706\n",
      "Epoch 240/500\n",
      "34/34 [==============================] - 0s 412us/step - loss: 0.0015 - accuracy: 0.0706\n",
      "Epoch 241/500\n",
      "34/34 [==============================] - 0s 412us/step - loss: 0.0015 - accuracy: 0.0706\n",
      "Epoch 242/500\n",
      "34/34 [==============================] - 0s 441us/step - loss: 0.0016 - accuracy: 0.0706\n",
      "Epoch 243/500\n",
      "34/34 [==============================] - 0s 441us/step - loss: 0.0016 - accuracy: 0.0706\n",
      "Epoch 244/500\n",
      "34/34 [==============================] - 0s 441us/step - loss: 0.0016 - accuracy: 0.0706\n",
      "Epoch 245/500\n",
      "34/34 [==============================] - 0s 441us/step - loss: 0.0016 - accuracy: 0.0706\n",
      "Epoch 246/500\n",
      "34/34 [==============================] - 0s 412us/step - loss: 0.0015 - accuracy: 0.0706\n",
      "Epoch 247/500\n",
      "34/34 [==============================] - 0s 471us/step - loss: 0.0015 - accuracy: 0.0706\n",
      "Epoch 248/500\n",
      "34/34 [==============================] - 0s 441us/step - loss: 0.0015 - accuracy: 0.0706\n",
      "Epoch 249/500\n",
      "34/34 [==============================] - 0s 441us/step - loss: 0.0015 - accuracy: 0.0706  \n",
      "Epoch 250/500\n",
      "34/34 [==============================] - 0s 412us/step - loss: 0.0015 - accuracy: 0.0706\n",
      "Epoch 251/500\n",
      "34/34 [==============================] - 0s 441us/step - loss: 0.0016 - accuracy: 0.0706  \n",
      "Epoch 252/500\n",
      "34/34 [==============================] - 0s 412us/step - loss: 0.0015 - accuracy: 0.0706\n",
      "Epoch 253/500\n",
      "34/34 [==============================] - 0s 441us/step - loss: 0.0016 - accuracy: 0.0706\n",
      "Epoch 254/500\n",
      "34/34 [==============================] - 0s 441us/step - loss: 0.0015 - accuracy: 0.0706\n",
      "Epoch 255/500\n",
      "34/34 [==============================] - 0s 441us/step - loss: 0.0015 - accuracy: 0.0706\n",
      "Epoch 256/500\n",
      "34/34 [==============================] - 0s 441us/step - loss: 0.0015 - accuracy: 0.0706  \n",
      "Epoch 257/500\n",
      "34/34 [==============================] - 0s 441us/step - loss: 0.0015 - accuracy: 0.0706\n",
      "Epoch 258/500\n",
      "34/34 [==============================] - 0s 441us/step - loss: 0.0015 - accuracy: 0.0706\n",
      "Epoch 259/500\n",
      "34/34 [==============================] - 0s 412us/step - loss: 0.0015 - accuracy: 0.0706\n",
      "Epoch 260/500\n",
      "34/34 [==============================] - 0s 471us/step - loss: 0.0015 - accuracy: 0.0706  \n",
      "Epoch 261/500\n",
      "34/34 [==============================] - 0s 412us/step - loss: 0.0015 - accuracy: 0.0706  \n",
      "Epoch 262/500\n",
      "34/34 [==============================] - 0s 441us/step - loss: 0.0015 - accuracy: 0.0706\n",
      "Epoch 263/500\n",
      "34/34 [==============================] - 0s 412us/step - loss: 0.0015 - accuracy: 0.0706\n",
      "Epoch 264/500\n",
      "34/34 [==============================] - 0s 412us/step - loss: 0.0015 - accuracy: 0.0706\n",
      "Epoch 265/500\n",
      "34/34 [==============================] - 0s 441us/step - loss: 0.0015 - accuracy: 0.0706\n",
      "Epoch 266/500\n",
      "34/34 [==============================] - 0s 441us/step - loss: 0.0015 - accuracy: 0.0706\n",
      "Epoch 267/500\n",
      "34/34 [==============================] - 0s 441us/step - loss: 0.0015 - accuracy: 0.0706\n",
      "Epoch 268/500\n",
      "34/34 [==============================] - 0s 441us/step - loss: 0.0015 - accuracy: 0.0706\n",
      "Epoch 269/500\n",
      "34/34 [==============================] - 0s 412us/step - loss: 0.0015 - accuracy: 0.0706\n",
      "Epoch 270/500\n",
      "34/34 [==============================] - 0s 441us/step - loss: 0.0015 - accuracy: 0.0706\n",
      "Epoch 271/500\n",
      "34/34 [==============================] - 0s 412us/step - loss: 0.0015 - accuracy: 0.0706\n",
      "Epoch 272/500\n",
      "34/34 [==============================] - 0s 441us/step - loss: 0.0015 - accuracy: 0.0706\n",
      "Epoch 273/500\n",
      "34/34 [==============================] - 0s 441us/step - loss: 0.0015 - accuracy: 0.0706\n",
      "Epoch 274/500\n",
      "34/34 [==============================] - 0s 441us/step - loss: 0.0015 - accuracy: 0.0706  \n",
      "Epoch 275/500\n",
      "34/34 [==============================] - 0s 441us/step - loss: 0.0015 - accuracy: 0.0706\n",
      "Epoch 276/500\n",
      "34/34 [==============================] - 0s 412us/step - loss: 0.0015 - accuracy: 0.0706\n",
      "Epoch 277/500\n",
      "34/34 [==============================] - 0s 412us/step - loss: 0.0015 - accuracy: 0.0706\n",
      "Epoch 278/500\n",
      "34/34 [==============================] - 0s 441us/step - loss: 0.0015 - accuracy: 0.0706\n",
      "Epoch 279/500\n",
      "34/34 [==============================] - 0s 441us/step - loss: 0.0015 - accuracy: 0.0706\n",
      "Epoch 280/500\n",
      "34/34 [==============================] - 0s 412us/step - loss: 0.0015 - accuracy: 0.0706\n",
      "Epoch 281/500\n",
      "34/34 [==============================] - 0s 441us/step - loss: 0.0015 - accuracy: 0.0706\n",
      "Epoch 282/500\n",
      "34/34 [==============================] - 0s 441us/step - loss: 0.0015 - accuracy: 0.0706  \n",
      "Epoch 283/500\n",
      "34/34 [==============================] - 0s 412us/step - loss: 0.0015 - accuracy: 0.0706\n",
      "Epoch 284/500\n",
      "34/34 [==============================] - 0s 441us/step - loss: 0.0015 - accuracy: 0.0706\n",
      "Epoch 285/500\n",
      "34/34 [==============================] - 0s 441us/step - loss: 0.0015 - accuracy: 0.0706\n",
      "Epoch 286/500\n",
      "34/34 [==============================] - 0s 412us/step - loss: 0.0015 - accuracy: 0.0706\n",
      "Epoch 287/500\n",
      "34/34 [==============================] - 0s 441us/step - loss: 0.0015 - accuracy: 0.0706\n",
      "Epoch 288/500\n",
      "34/34 [==============================] - 0s 412us/step - loss: 0.0015 - accuracy: 0.0706\n",
      "Epoch 289/500\n",
      "34/34 [==============================] - 0s 441us/step - loss: 0.0015 - accuracy: 0.0706\n",
      "Epoch 290/500\n",
      "34/34 [==============================] - 0s 441us/step - loss: 0.0014 - accuracy: 0.0706\n",
      "Epoch 291/500\n",
      "34/34 [==============================] - 0s 441us/step - loss: 0.0015 - accuracy: 0.0706\n",
      "Epoch 292/500\n",
      "34/34 [==============================] - 0s 412us/step - loss: 0.0015 - accuracy: 0.0706\n",
      "Epoch 293/500\n",
      "34/34 [==============================] - 0s 441us/step - loss: 0.0015 - accuracy: 0.0706\n",
      "Epoch 294/500\n",
      "34/34 [==============================] - 0s 412us/step - loss: 0.0015 - accuracy: 0.0706  \n",
      "Epoch 295/500\n",
      "34/34 [==============================] - 0s 412us/step - loss: 0.0015 - accuracy: 0.0706  \n",
      "Epoch 296/500\n",
      "34/34 [==============================] - 0s 441us/step - loss: 0.0015 - accuracy: 0.0706\n",
      "Epoch 297/500\n",
      "34/34 [==============================] - 0s 441us/step - loss: 0.0015 - accuracy: 0.0706\n",
      "Epoch 298/500\n",
      "34/34 [==============================] - 0s 441us/step - loss: 0.0015 - accuracy: 0.0706\n",
      "Epoch 299/500\n",
      "34/34 [==============================] - 0s 441us/step - loss: 0.0015 - accuracy: 0.0706\n",
      "Epoch 300/500\n",
      "34/34 [==============================] - 0s 412us/step - loss: 0.0015 - accuracy: 0.0706\n",
      "Epoch 301/500\n",
      "34/34 [==============================] - 0s 441us/step - loss: 0.0014 - accuracy: 0.0706\n",
      "Epoch 302/500\n",
      "34/34 [==============================] - 0s 412us/step - loss: 0.0015 - accuracy: 0.0706\n",
      "Epoch 303/500\n",
      "34/34 [==============================] - 0s 441us/step - loss: 0.0015 - accuracy: 0.0706\n",
      "Epoch 304/500\n",
      "34/34 [==============================] - 0s 412us/step - loss: 0.0015 - accuracy: 0.0706\n",
      "Epoch 305/500\n",
      "34/34 [==============================] - 0s 412us/step - loss: 0.0015 - accuracy: 0.0706\n",
      "Epoch 306/500\n",
      "34/34 [==============================] - 0s 441us/step - loss: 0.0015 - accuracy: 0.0706\n",
      "Epoch 307/500\n",
      "34/34 [==============================] - 0s 441us/step - loss: 0.0014 - accuracy: 0.0706\n",
      "Epoch 308/500\n",
      "34/34 [==============================] - 0s 471us/step - loss: 0.0014 - accuracy: 0.0706  \n",
      "Epoch 309/500\n",
      "34/34 [==============================] - 0s 441us/step - loss: 0.0015 - accuracy: 0.0706  \n",
      "Epoch 310/500\n",
      "34/34 [==============================] - 0s 441us/step - loss: 0.0015 - accuracy: 0.0706\n",
      "Epoch 311/500\n",
      "34/34 [==============================] - 0s 471us/step - loss: 0.0014 - accuracy: 0.0706\n",
      "Epoch 312/500\n",
      "34/34 [==============================] - 0s 441us/step - loss: 0.0015 - accuracy: 0.0706\n",
      "Epoch 313/500\n",
      "34/34 [==============================] - 0s 500us/step - loss: 0.0015 - accuracy: 0.0706\n",
      "Epoch 314/500\n",
      "34/34 [==============================] - 0s 441us/step - loss: 0.0014 - accuracy: 0.0706\n",
      "Epoch 315/500\n",
      "34/34 [==============================] - 0s 471us/step - loss: 0.0014 - accuracy: 0.0706\n",
      "Epoch 316/500\n",
      "34/34 [==============================] - 0s 441us/step - loss: 0.0015 - accuracy: 0.0706  \n",
      "Epoch 317/500\n",
      "34/34 [==============================] - 0s 471us/step - loss: 0.0015 - accuracy: 0.0706\n",
      "Epoch 318/500\n"
     ]
    },
    {
     "name": "stdout",
     "output_type": "stream",
     "text": [
      "34/34 [==============================] - 0s 471us/step - loss: 0.0014 - accuracy: 0.0706\n",
      "Epoch 319/500\n",
      "34/34 [==============================] - 0s 441us/step - loss: 0.0014 - accuracy: 0.0706  \n",
      "Epoch 320/500\n",
      "34/34 [==============================] - 0s 471us/step - loss: 0.0015 - accuracy: 0.0706  \n",
      "Epoch 321/500\n",
      "34/34 [==============================] - 0s 441us/step - loss: 0.0014 - accuracy: 0.0706\n",
      "Epoch 322/500\n",
      "34/34 [==============================] - 0s 471us/step - loss: 0.0015 - accuracy: 0.0706\n",
      "Epoch 323/500\n",
      "34/34 [==============================] - 0s 412us/step - loss: 0.0015 - accuracy: 0.0706\n",
      "Epoch 324/500\n",
      "34/34 [==============================] - 0s 441us/step - loss: 0.0015 - accuracy: 0.0706\n",
      "Epoch 325/500\n",
      "34/34 [==============================] - 0s 441us/step - loss: 0.0014 - accuracy: 0.0706\n",
      "Epoch 326/500\n",
      "34/34 [==============================] - 0s 471us/step - loss: 0.0014 - accuracy: 0.0706\n",
      "Epoch 327/500\n",
      "34/34 [==============================] - 0s 441us/step - loss: 0.0014 - accuracy: 0.0706\n",
      "Epoch 328/500\n",
      "34/34 [==============================] - 0s 441us/step - loss: 0.0015 - accuracy: 0.0706  \n",
      "Epoch 329/500\n",
      "34/34 [==============================] - 0s 471us/step - loss: 0.0014 - accuracy: 0.0706\n",
      "Epoch 330/500\n",
      "34/34 [==============================] - 0s 412us/step - loss: 0.0014 - accuracy: 0.0706\n",
      "Epoch 331/500\n",
      "34/34 [==============================] - 0s 441us/step - loss: 0.0014 - accuracy: 0.0706\n",
      "Epoch 332/500\n",
      "34/34 [==============================] - 0s 470us/step - loss: 0.0014 - accuracy: 0.0706\n",
      "Epoch 333/500\n",
      "34/34 [==============================] - 0s 441us/step - loss: 0.0014 - accuracy: 0.0706\n",
      "Epoch 334/500\n",
      "34/34 [==============================] - 0s 471us/step - loss: 0.0014 - accuracy: 0.0706\n",
      "Epoch 335/500\n",
      "34/34 [==============================] - 0s 441us/step - loss: 0.0015 - accuracy: 0.0706\n",
      "Epoch 336/500\n",
      "34/34 [==============================] - 0s 441us/step - loss: 0.0014 - accuracy: 0.0706\n",
      "Epoch 337/500\n",
      "34/34 [==============================] - 0s 441us/step - loss: 0.0014 - accuracy: 0.0706\n",
      "Epoch 338/500\n",
      "34/34 [==============================] - 0s 412us/step - loss: 0.0015 - accuracy: 0.0706\n",
      "Epoch 339/500\n",
      "34/34 [==============================] - 0s 412us/step - loss: 0.0014 - accuracy: 0.0706\n",
      "Epoch 340/500\n",
      "34/34 [==============================] - 0s 412us/step - loss: 0.0014 - accuracy: 0.0706\n",
      "Epoch 341/500\n",
      "34/34 [==============================] - 0s 441us/step - loss: 0.0014 - accuracy: 0.0706\n",
      "Epoch 342/500\n",
      "34/34 [==============================] - 0s 441us/step - loss: 0.0014 - accuracy: 0.0706  \n",
      "Epoch 343/500\n",
      "34/34 [==============================] - 0s 441us/step - loss: 0.0014 - accuracy: 0.0706\n",
      "Epoch 344/500\n",
      "34/34 [==============================] - 0s 441us/step - loss: 0.0014 - accuracy: 0.0706  \n",
      "Epoch 345/500\n",
      "34/34 [==============================] - 0s 412us/step - loss: 0.0014 - accuracy: 0.0706\n",
      "Epoch 346/500\n",
      "34/34 [==============================] - 0s 441us/step - loss: 0.0014 - accuracy: 0.0706  \n",
      "Epoch 347/500\n",
      "34/34 [==============================] - 0s 441us/step - loss: 0.0014 - accuracy: 0.0706\n",
      "Epoch 348/500\n",
      "34/34 [==============================] - 0s 441us/step - loss: 0.0014 - accuracy: 0.0706\n",
      "Epoch 349/500\n",
      "34/34 [==============================] - 0s 441us/step - loss: 0.0014 - accuracy: 0.0706\n",
      "Epoch 350/500\n",
      "34/34 [==============================] - 0s 412us/step - loss: 0.0015 - accuracy: 0.0706  \n",
      "Epoch 351/500\n",
      "34/34 [==============================] - 0s 441us/step - loss: 0.0014 - accuracy: 0.0706\n",
      "Epoch 352/500\n",
      "34/34 [==============================] - 0s 412us/step - loss: 0.0015 - accuracy: 0.0706\n",
      "Epoch 353/500\n",
      "34/34 [==============================] - 0s 441us/step - loss: 0.0014 - accuracy: 0.0706\n",
      "Epoch 354/500\n",
      "34/34 [==============================] - 0s 441us/step - loss: 0.0014 - accuracy: 0.0706\n",
      "Epoch 355/500\n",
      "34/34 [==============================] - 0s 441us/step - loss: 0.0014 - accuracy: 0.0706\n",
      "Epoch 356/500\n",
      "34/34 [==============================] - 0s 441us/step - loss: 0.0014 - accuracy: 0.0706\n",
      "Epoch 357/500\n",
      "34/34 [==============================] - 0s 441us/step - loss: 0.0014 - accuracy: 0.0706  \n",
      "Epoch 358/500\n",
      "34/34 [==============================] - 0s 441us/step - loss: 0.0014 - accuracy: 0.0706\n",
      "Epoch 359/500\n",
      "34/34 [==============================] - 0s 441us/step - loss: 0.0014 - accuracy: 0.0706\n",
      "Epoch 360/500\n",
      "34/34 [==============================] - 0s 412us/step - loss: 0.0014 - accuracy: 0.0706\n",
      "Epoch 361/500\n",
      "34/34 [==============================] - 0s 441us/step - loss: 0.0014 - accuracy: 0.0706\n",
      "Epoch 362/500\n",
      "34/34 [==============================] - 0s 412us/step - loss: 0.0014 - accuracy: 0.0706\n",
      "Epoch 363/500\n",
      "34/34 [==============================] - 0s 441us/step - loss: 0.0014 - accuracy: 0.0706\n",
      "Epoch 364/500\n",
      "34/34 [==============================] - 0s 441us/step - loss: 0.0014 - accuracy: 0.0706  \n",
      "Epoch 365/500\n",
      "34/34 [==============================] - 0s 441us/step - loss: 0.0014 - accuracy: 0.0706\n",
      "Epoch 366/500\n",
      "34/34 [==============================] - 0s 441us/step - loss: 0.0014 - accuracy: 0.0706\n",
      "Epoch 367/500\n",
      "34/34 [==============================] - 0s 441us/step - loss: 0.0014 - accuracy: 0.0706\n",
      "Epoch 368/500\n",
      "34/34 [==============================] - 0s 441us/step - loss: 0.0014 - accuracy: 0.0706\n",
      "Epoch 369/500\n",
      "34/34 [==============================] - 0s 441us/step - loss: 0.0014 - accuracy: 0.0706\n",
      "Epoch 370/500\n",
      "34/34 [==============================] - 0s 412us/step - loss: 0.0014 - accuracy: 0.0706\n",
      "Epoch 371/500\n",
      "34/34 [==============================] - 0s 441us/step - loss: 0.0014 - accuracy: 0.0706\n",
      "Epoch 372/500\n",
      "34/34 [==============================] - 0s 412us/step - loss: 0.0014 - accuracy: 0.0706\n",
      "Epoch 373/500\n",
      "34/34 [==============================] - 0s 412us/step - loss: 0.0014 - accuracy: 0.0706\n",
      "Epoch 374/500\n",
      "34/34 [==============================] - 0s 441us/step - loss: 0.0014 - accuracy: 0.0706\n",
      "Epoch 375/500\n",
      "34/34 [==============================] - 0s 412us/step - loss: 0.0014 - accuracy: 0.0706\n",
      "Epoch 376/500\n",
      "34/34 [==============================] - 0s 441us/step - loss: 0.0014 - accuracy: 0.0706\n",
      "Epoch 377/500\n",
      "34/34 [==============================] - 0s 441us/step - loss: 0.0014 - accuracy: 0.0706\n",
      "Epoch 378/500\n",
      "34/34 [==============================] - 0s 441us/step - loss: 0.0014 - accuracy: 0.0706\n",
      "Epoch 379/500\n",
      "34/34 [==============================] - 0s 441us/step - loss: 0.0014 - accuracy: 0.0706\n",
      "Epoch 380/500\n",
      "34/34 [==============================] - 0s 471us/step - loss: 0.0014 - accuracy: 0.0706\n",
      "Epoch 381/500\n",
      "34/34 [==============================] - 0s 441us/step - loss: 0.0014 - accuracy: 0.0706\n",
      "Epoch 382/500\n",
      "34/34 [==============================] - 0s 441us/step - loss: 0.0014 - accuracy: 0.0706\n",
      "Epoch 383/500\n",
      "34/34 [==============================] - 0s 412us/step - loss: 0.0014 - accuracy: 0.0706\n",
      "Epoch 384/500\n",
      "34/34 [==============================] - 0s 441us/step - loss: 0.0014 - accuracy: 0.0706\n",
      "Epoch 385/500\n",
      "34/34 [==============================] - 0s 441us/step - loss: 0.0014 - accuracy: 0.0706\n",
      "Epoch 386/500\n",
      "34/34 [==============================] - 0s 441us/step - loss: 0.0014 - accuracy: 0.0706  \n",
      "Epoch 387/500\n",
      "34/34 [==============================] - 0s 471us/step - loss: 0.0014 - accuracy: 0.0706\n",
      "Epoch 388/500\n",
      "34/34 [==============================] - 0s 441us/step - loss: 0.0014 - accuracy: 0.0706\n",
      "Epoch 389/500\n",
      "34/34 [==============================] - 0s 441us/step - loss: 0.0014 - accuracy: 0.0706\n",
      "Epoch 390/500\n",
      "34/34 [==============================] - 0s 412us/step - loss: 0.0014 - accuracy: 0.0706\n",
      "Epoch 391/500\n",
      "34/34 [==============================] - 0s 441us/step - loss: 0.0014 - accuracy: 0.0706\n",
      "Epoch 392/500\n",
      "34/34 [==============================] - 0s 412us/step - loss: 0.0014 - accuracy: 0.0706\n",
      "Epoch 393/500\n",
      "34/34 [==============================] - 0s 412us/step - loss: 0.0014 - accuracy: 0.0706\n",
      "Epoch 394/500\n",
      "34/34 [==============================] - 0s 441us/step - loss: 0.0014 - accuracy: 0.0706\n",
      "Epoch 395/500\n",
      "34/34 [==============================] - 0s 412us/step - loss: 0.0014 - accuracy: 0.0706\n",
      "Epoch 396/500\n",
      "34/34 [==============================] - 0s 441us/step - loss: 0.0014 - accuracy: 0.0706  \n",
      "Epoch 397/500\n"
     ]
    },
    {
     "name": "stdout",
     "output_type": "stream",
     "text": [
      "34/34 [==============================] - 0s 441us/step - loss: 0.0014 - accuracy: 0.0706\n",
      "Epoch 398/500\n",
      "34/34 [==============================] - 0s 412us/step - loss: 0.0014 - accuracy: 0.0706\n",
      "Epoch 399/500\n",
      "34/34 [==============================] - 0s 441us/step - loss: 0.0014 - accuracy: 0.0706  \n",
      "Epoch 400/500\n",
      "34/34 [==============================] - 0s 412us/step - loss: 0.0014 - accuracy: 0.0706\n",
      "Epoch 401/500\n",
      "34/34 [==============================] - 0s 441us/step - loss: 0.0014 - accuracy: 0.0706\n",
      "Epoch 402/500\n",
      "34/34 [==============================] - 0s 412us/step - loss: 0.0014 - accuracy: 0.0706\n",
      "Epoch 403/500\n",
      "34/34 [==============================] - 0s 441us/step - loss: 0.0014 - accuracy: 0.0706\n",
      "Epoch 404/500\n",
      "34/34 [==============================] - 0s 412us/step - loss: 0.0014 - accuracy: 0.0706\n",
      "Epoch 405/500\n",
      "34/34 [==============================] - 0s 441us/step - loss: 0.0014 - accuracy: 0.0706\n",
      "Epoch 406/500\n",
      "34/34 [==============================] - 0s 412us/step - loss: 0.0014 - accuracy: 0.0706\n",
      "Epoch 407/500\n",
      "34/34 [==============================] - 0s 471us/step - loss: 0.0014 - accuracy: 0.0706\n",
      "Epoch 408/500\n",
      "34/34 [==============================] - 0s 441us/step - loss: 0.0014 - accuracy: 0.0706\n",
      "Epoch 409/500\n",
      "34/34 [==============================] - 0s 441us/step - loss: 0.0014 - accuracy: 0.0706\n",
      "Epoch 410/500\n",
      "34/34 [==============================] - 0s 441us/step - loss: 0.0014 - accuracy: 0.0706\n",
      "Epoch 411/500\n",
      "34/34 [==============================] - 0s 441us/step - loss: 0.0014 - accuracy: 0.0706  \n",
      "Epoch 412/500\n",
      "34/34 [==============================] - 0s 441us/step - loss: 0.0013 - accuracy: 0.0706\n",
      "Epoch 413/500\n",
      "34/34 [==============================] - 0s 441us/step - loss: 0.0014 - accuracy: 0.0706\n",
      "Epoch 414/500\n",
      "34/34 [==============================] - 0s 441us/step - loss: 0.0014 - accuracy: 0.0706\n",
      "Epoch 415/500\n",
      "34/34 [==============================] - 0s 441us/step - loss: 0.0014 - accuracy: 0.0706  \n",
      "Epoch 416/500\n",
      "34/34 [==============================] - 0s 412us/step - loss: 0.0014 - accuracy: 0.0706\n",
      "Epoch 417/500\n",
      "34/34 [==============================] - 0s 441us/step - loss: 0.0013 - accuracy: 0.0706\n",
      "Epoch 418/500\n",
      "34/34 [==============================] - 0s 441us/step - loss: 0.0013 - accuracy: 0.0706\n",
      "Epoch 419/500\n",
      "34/34 [==============================] - 0s 441us/step - loss: 0.0014 - accuracy: 0.0706\n",
      "Epoch 420/500\n",
      "34/34 [==============================] - 0s 441us/step - loss: 0.0013 - accuracy: 0.0706\n",
      "Epoch 421/500\n",
      "34/34 [==============================] - 0s 412us/step - loss: 0.0013 - accuracy: 0.0706\n",
      "Epoch 422/500\n",
      "34/34 [==============================] - 0s 441us/step - loss: 0.0013 - accuracy: 0.0706\n",
      "Epoch 423/500\n",
      "34/34 [==============================] - 0s 412us/step - loss: 0.0013 - accuracy: 0.0706  \n",
      "Epoch 424/500\n",
      "34/34 [==============================] - 0s 441us/step - loss: 0.0013 - accuracy: 0.0706\n",
      "Epoch 425/500\n",
      "34/34 [==============================] - 0s 412us/step - loss: 0.0014 - accuracy: 0.0706\n",
      "Epoch 426/500\n",
      "34/34 [==============================] - 0s 441us/step - loss: 0.0013 - accuracy: 0.0706\n",
      "Epoch 427/500\n",
      "34/34 [==============================] - 0s 412us/step - loss: 0.0013 - accuracy: 0.0706  \n",
      "Epoch 428/500\n",
      "34/34 [==============================] - 0s 441us/step - loss: 0.0013 - accuracy: 0.0706\n",
      "Epoch 429/500\n",
      "34/34 [==============================] - 0s 441us/step - loss: 0.0013 - accuracy: 0.0706\n",
      "Epoch 430/500\n",
      "34/34 [==============================] - 0s 471us/step - loss: 0.0013 - accuracy: 0.0706\n",
      "Epoch 431/500\n",
      "34/34 [==============================] - 0s 412us/step - loss: 0.0014 - accuracy: 0.0706\n",
      "Epoch 432/500\n",
      "34/34 [==============================] - 0s 441us/step - loss: 0.0014 - accuracy: 0.0706\n",
      "Epoch 433/500\n",
      "34/34 [==============================] - 0s 441us/step - loss: 0.0013 - accuracy: 0.0706\n",
      "Epoch 434/500\n",
      "34/34 [==============================] - 0s 441us/step - loss: 0.0013 - accuracy: 0.0706\n",
      "Epoch 435/500\n",
      "34/34 [==============================] - 0s 412us/step - loss: 0.0013 - accuracy: 0.0706\n",
      "Epoch 436/500\n",
      "34/34 [==============================] - 0s 441us/step - loss: 0.0013 - accuracy: 0.0706  \n",
      "Epoch 437/500\n",
      "34/34 [==============================] - 0s 412us/step - loss: 0.0013 - accuracy: 0.0706\n",
      "Epoch 438/500\n",
      "34/34 [==============================] - 0s 412us/step - loss: 0.0013 - accuracy: 0.0706  \n",
      "Epoch 439/500\n",
      "34/34 [==============================] - 0s 441us/step - loss: 0.0013 - accuracy: 0.0706\n",
      "Epoch 440/500\n",
      "34/34 [==============================] - 0s 441us/step - loss: 0.0013 - accuracy: 0.0706  \n",
      "Epoch 441/500\n",
      "34/34 [==============================] - 0s 412us/step - loss: 0.0013 - accuracy: 0.0706\n",
      "Epoch 442/500\n",
      "34/34 [==============================] - 0s 441us/step - loss: 0.0013 - accuracy: 0.0706\n",
      "Epoch 443/500\n",
      "34/34 [==============================] - 0s 441us/step - loss: 0.0013 - accuracy: 0.0706\n",
      "Epoch 444/500\n",
      "34/34 [==============================] - 0s 412us/step - loss: 0.0013 - accuracy: 0.0706\n",
      "Epoch 445/500\n",
      "34/34 [==============================] - 0s 441us/step - loss: 0.0013 - accuracy: 0.0706\n",
      "Epoch 446/500\n",
      "34/34 [==============================] - 0s 412us/step - loss: 0.0014 - accuracy: 0.0706\n",
      "Epoch 447/500\n",
      "34/34 [==============================] - 0s 441us/step - loss: 0.0013 - accuracy: 0.0706\n",
      "Epoch 448/500\n",
      "34/34 [==============================] - 0s 441us/step - loss: 0.0013 - accuracy: 0.0706\n",
      "Epoch 449/500\n",
      "34/34 [==============================] - 0s 441us/step - loss: 0.0014 - accuracy: 0.0706\n",
      "Epoch 450/500\n",
      "34/34 [==============================] - 0s 441us/step - loss: 0.0014 - accuracy: 0.0706\n",
      "Epoch 451/500\n",
      "34/34 [==============================] - 0s 412us/step - loss: 0.0014 - accuracy: 0.0706\n",
      "Epoch 452/500\n",
      "34/34 [==============================] - 0s 412us/step - loss: 0.0013 - accuracy: 0.0706\n",
      "Epoch 453/500\n",
      "34/34 [==============================] - 0s 441us/step - loss: 0.0013 - accuracy: 0.0706\n",
      "Epoch 454/500\n",
      "34/34 [==============================] - 0s 412us/step - loss: 0.0013 - accuracy: 0.0706\n",
      "Epoch 455/500\n",
      "34/34 [==============================] - 0s 412us/step - loss: 0.0013 - accuracy: 0.0706  \n",
      "Epoch 456/500\n",
      "34/34 [==============================] - 0s 412us/step - loss: 0.0014 - accuracy: 0.0706\n",
      "Epoch 457/500\n",
      "34/34 [==============================] - 0s 412us/step - loss: 0.0014 - accuracy: 0.0706\n",
      "Epoch 458/500\n",
      "34/34 [==============================] - 0s 441us/step - loss: 0.0014 - accuracy: 0.0706\n",
      "Epoch 459/500\n",
      "34/34 [==============================] - 0s 441us/step - loss: 0.0013 - accuracy: 0.0706\n",
      "Epoch 460/500\n",
      "34/34 [==============================] - 0s 441us/step - loss: 0.0013 - accuracy: 0.0706\n",
      "Epoch 461/500\n",
      "34/34 [==============================] - 0s 412us/step - loss: 0.0013 - accuracy: 0.0706\n",
      "Epoch 462/500\n",
      "34/34 [==============================] - 0s 441us/step - loss: 0.0013 - accuracy: 0.0706\n",
      "Epoch 463/500\n",
      "34/34 [==============================] - 0s 441us/step - loss: 0.0013 - accuracy: 0.0706\n",
      "Epoch 464/500\n",
      "34/34 [==============================] - 0s 441us/step - loss: 0.0013 - accuracy: 0.0706\n",
      "Epoch 465/500\n",
      "34/34 [==============================] - 0s 412us/step - loss: 0.0013 - accuracy: 0.0706\n",
      "Epoch 466/500\n",
      "34/34 [==============================] - 0s 412us/step - loss: 0.0013 - accuracy: 0.0706\n",
      "Epoch 467/500\n",
      "34/34 [==============================] - 0s 441us/step - loss: 0.0013 - accuracy: 0.0706\n",
      "Epoch 468/500\n",
      "34/34 [==============================] - 0s 412us/step - loss: 0.0013 - accuracy: 0.0706\n",
      "Epoch 469/500\n",
      "34/34 [==============================] - 0s 441us/step - loss: 0.0013 - accuracy: 0.0706\n",
      "Epoch 470/500\n",
      "34/34 [==============================] - 0s 441us/step - loss: 0.0013 - accuracy: 0.0706\n",
      "Epoch 471/500\n",
      "34/34 [==============================] - 0s 441us/step - loss: 0.0013 - accuracy: 0.0706\n",
      "Epoch 472/500\n",
      "34/34 [==============================] - 0s 412us/step - loss: 0.0013 - accuracy: 0.0706\n",
      "Epoch 473/500\n",
      "34/34 [==============================] - 0s 441us/step - loss: 0.0013 - accuracy: 0.0706\n",
      "Epoch 474/500\n",
      "34/34 [==============================] - 0s 441us/step - loss: 0.0013 - accuracy: 0.0706  \n",
      "Epoch 475/500\n",
      "34/34 [==============================] - 0s 441us/step - loss: 0.0013 - accuracy: 0.0706\n",
      "Epoch 476/500\n"
     ]
    },
    {
     "name": "stdout",
     "output_type": "stream",
     "text": [
      "34/34 [==============================] - 0s 412us/step - loss: 0.0013 - accuracy: 0.0706\n",
      "Epoch 477/500\n",
      "34/34 [==============================] - 0s 441us/step - loss: 0.0013 - accuracy: 0.0706\n",
      "Epoch 478/500\n",
      "34/34 [==============================] - 0s 441us/step - loss: 0.0013 - accuracy: 0.0706\n",
      "Epoch 479/500\n",
      "34/34 [==============================] - 0s 441us/step - loss: 0.0013 - accuracy: 0.0706  \n",
      "Epoch 480/500\n",
      "34/34 [==============================] - 0s 441us/step - loss: 0.0013 - accuracy: 0.0706\n",
      "Epoch 481/500\n",
      "34/34 [==============================] - 0s 412us/step - loss: 0.0013 - accuracy: 0.0706\n",
      "Epoch 482/500\n",
      "34/34 [==============================] - 0s 441us/step - loss: 0.0013 - accuracy: 0.0706\n",
      "Epoch 483/500\n",
      "34/34 [==============================] - 0s 441us/step - loss: 0.0013 - accuracy: 0.0706\n",
      "Epoch 484/500\n",
      "34/34 [==============================] - 0s 441us/step - loss: 0.0013 - accuracy: 0.0706\n",
      "Epoch 485/500\n",
      "34/34 [==============================] - 0s 441us/step - loss: 0.0013 - accuracy: 0.0706  \n",
      "Epoch 486/500\n",
      "34/34 [==============================] - 0s 441us/step - loss: 0.0013 - accuracy: 0.0706  \n",
      "Epoch 487/500\n",
      "34/34 [==============================] - 0s 441us/step - loss: 0.0013 - accuracy: 0.0706\n",
      "Epoch 488/500\n",
      "34/34 [==============================] - 0s 412us/step - loss: 0.0013 - accuracy: 0.0706\n",
      "Epoch 489/500\n",
      "34/34 [==============================] - 0s 441us/step - loss: 0.0013 - accuracy: 0.0706\n",
      "Epoch 490/500\n",
      "34/34 [==============================] - 0s 412us/step - loss: 0.0013 - accuracy: 0.0706\n",
      "Epoch 491/500\n",
      "34/34 [==============================] - 0s 412us/step - loss: 0.0013 - accuracy: 0.0706  \n",
      "Epoch 492/500\n",
      "34/34 [==============================] - 0s 441us/step - loss: 0.0013 - accuracy: 0.0706\n",
      "Epoch 493/500\n",
      "34/34 [==============================] - 0s 441us/step - loss: 0.0013 - accuracy: 0.0706\n",
      "Epoch 494/500\n",
      "34/34 [==============================] - 0s 441us/step - loss: 0.0013 - accuracy: 0.0706\n",
      "Epoch 495/500\n",
      "34/34 [==============================] - 0s 441us/step - loss: 0.0013 - accuracy: 0.0706\n",
      "Epoch 496/500\n",
      "34/34 [==============================] - 0s 412us/step - loss: 0.0013 - accuracy: 0.0706\n",
      "Epoch 497/500\n",
      "34/34 [==============================] - 0s 412us/step - loss: 0.0013 - accuracy: 0.0706  \n",
      "Epoch 498/500\n",
      "34/34 [==============================] - 0s 441us/step - loss: 0.0013 - accuracy: 0.0706\n",
      "Epoch 499/500\n",
      "34/34 [==============================] - 0s 412us/step - loss: 0.0013 - accuracy: 0.0706\n",
      "Epoch 500/500\n",
      "34/34 [==============================] - 0s 441us/step - loss: 0.0013 - accuracy: 0.0706\n"
     ]
    }
   ],
   "source": [
    "# Train the Keras main model on the training dataset.\n",
    "history = model.fit(train['speed'], train['power'], epochs=500, batch_size=10)\n",
    "\n",
    "\n",
    "#model.fit(X_train, y_train, batch_size=32, epochs=25, verbose=1, validation_data=(X_test,y_test))\n",
    "#history = model.fit(X_train, y_train, epochs=500, batch_size=10,  verbose=1, validation_data=(X_test,y_test) )\n",
    "#Copied from Accuracy section\n",
    "#history = model.fit(train['speed'], train['power'], epochs=35, batch_size=10,verbose=1, validation_data=(train['speed'], train['power']))\n"
   ]
  },
  {
   "cell_type": "code",
   "execution_count": 31,
   "metadata": {},
   "outputs": [
    {
     "name": "stdout",
     "output_type": "stream",
     "text": [
      "Model: \"sequential\"\n",
      "_________________________________________________________________\n",
      "Layer (type)                 Output Shape              Param #   \n",
      "=================================================================\n",
      "dense (Dense)                (None, 20)                40        \n",
      "_________________________________________________________________\n",
      "dense_1 (Dense)              (None, 20)                420       \n",
      "_________________________________________________________________\n",
      "dense_2 (Dense)              (None, 1)                 21        \n",
      "=================================================================\n",
      "Total params: 481\n",
      "Trainable params: 481\n",
      "Non-trainable params: 0\n",
      "_________________________________________________________________\n"
     ]
    }
   ],
   "source": [
    "# Compile the model and summarize it.\n",
    "model.compile(kr.optimizers.Adam(lr=0.001), loss=\"mean_squared_error\", metrics=['accuracy'])\n",
    "\n",
    "\n",
    "model.summary()"
   ]
  },
  {
   "cell_type": "markdown",
   "metadata": {},
   "source": [
    "The hidden layer has 20 neurons plus 50 bias terms giving 40 parameters for this layer. The output layer has 1 neuron with one bias term and 50 inputs feeding to it, so 21 parameters in total. The network has 481 parameters. The aim is to train it and find good values for these 151 parameters. "
   ]
  },
  {
   "cell_type": "code",
   "execution_count": 32,
   "metadata": {},
   "outputs": [
    {
     "name": "stdout",
     "output_type": "stream",
     "text": [
      "dict_keys(['loss', 'accuracy'])\n"
     ]
    }
   ],
   "source": [
    "print(history.history.keys())"
   ]
  },
  {
   "cell_type": "code",
   "execution_count": 33,
   "metadata": {},
   "outputs": [
    {
     "name": "stdout",
     "output_type": "stream",
     "text": [
      "The final scaled Mean Squared Error cost/loss factor in the Keras main model training dataset is 0.0012711470481008291\n"
     ]
    }
   ],
   "source": [
    "print(f\"The final scaled Mean Squared Error cost/loss factor in the Keras main model training dataset is {history.history['loss'][-1]}\")"
   ]
  },
  {
   "cell_type": "code",
   "execution_count": 34,
   "metadata": {},
   "outputs": [
    {
     "data": {
      "image/png": "[encoded data removed]",
      "text/plain": [
       "<Figure size 576x432 with 1 Axes>"
      ]
     },
     "metadata": {
      "needs_background": "light"
     },
     "output_type": "display_data"
    }
   ],
   "source": [
    "# Plot training dataset comparison\n",
    "plt.plot(train['speed']*Speed_F, train['power']*Power_F, 'bx', label='actual')\n",
    "plt.plot(train['speed']*Speed_F, model.predict(train['speed'])*Power_F, 'gx', label='prediction')\n",
    "plt.title(\"Comparison of Training Dataset versus Model Predictions\", fontsize = 16)\n",
    "plt.xlabel(\"Wind Speed\")\n",
    "plt.ylabel(\"Power Output\")\n",
    "plt.legend();"
   ]
  },
  {
   "cell_type": "code",
   "execution_count": 35,
   "metadata": {},
   "outputs": [
    {
     "data": {
      "image/png": "[encoded data removed]",
      "text/plain": [
       "<Figure size 576x432 with 1 Axes>"
      ]
     },
     "metadata": {
      "needs_background": "light"
     },
     "output_type": "display_data"
    }
   ],
   "source": [
    "# Plot testing dataset comparison\n",
    "plt.plot(test['speed']*Speed_F, test['power']*Power_F, 'bx', label='actual')\n",
    "plt.plot(test['speed']*Speed_F, model.predict(test['speed'])*Power_F, 'gx', label='prediction')\n",
    "plt.title(\"Comparison of Test Dataset versus Model Predictions\", fontsize = 16)\n",
    "plt.xlabel(\"Wind Speed\")\n",
    "plt.ylabel(\"Power Output\")\n",
    "plt.legend();"
   ]
  },
  {
   "cell_type": "code",
   "execution_count": 36,
   "metadata": {},
   "outputs": [
    {
     "name": "stdout",
     "output_type": "stream",
     "text": [
      "Wind speed of 20 using the Keras Main model gives power of: 99.108\n"
     ]
    }
   ],
   "source": [
    "# Testing of the model prediction\n",
    "print(f\"Wind speed of 20 using the Keras Main model gives power of: {round(model.predict([20/Speed_F])[0][0]*Power_F, 3)}\")\n"
   ]
  },
  {
   "cell_type": "markdown",
   "metadata": {},
   "source": [
    "<b>Save the Neural Network Model</b>"
   ]
  },
  {
   "cell_type": "code",
   "execution_count": 37,
   "metadata": {},
   "outputs": [
    {
     "name": "stdout",
     "output_type": "stream",
     "text": [
      "Neural network model saved as Model_NN.h5\n"
     ]
    }
   ],
   "source": [
    "model.save(\"Model_NN.h5\")\n",
    "print(\"Neural network model saved as Model_NN.h5\")"
   ]
  },
  {
   "cell_type": "code",
   "execution_count": 38,
   "metadata": {},
   "outputs": [],
   "source": [
    "# serialize model to JSON\n",
    "#model_json = model.to_json()\n",
    "#with open(\"Model_NN.json\", \"w\") as json_file:\n",
    "#    json_file.write(model_json)\n",
    "#print(\"Neural network model saved as Model_NN.json\")"
   ]
  },
  {
   "cell_type": "markdown",
   "metadata": {},
   "source": [
    "### Model Accuracy of the Training data\n",
    "\n",
    "<b>Accuracy</b> is the mearsurement used in Machine Learning to determine the performance by identifying relationships and patterns between variables in the dataset based on the input, or training data. It is very important to make practical decisions and more accurate models will give better results.[13]\n",
    "\n",
    "In this section I am going to use my train dataset to figure out the accuracy of the model and loss curve. Since the "
   ]
  },
  {
   "cell_type": "markdown",
   "metadata": {},
   "source": [
    "A <b>loss function</b> is used to optimize a machine learning algorithm. The loss is calculated on training and validation and its interpretation is based on how well the model is doing in these two sets. It is the sum of errors made for each example in training or validation sets. Loss value implies how poorly or well a model behaves after each iteration of optimization.\n",
    "\n",
    "An <b>accuracy metric</b> is used to measure the algorithm’s performance in an interpretable way. The accuracy of a model is usually determined after the model parameters and is calculated in the form of a percentage. It is the measure of how accurate your model's prediction is compared to the true data"
   ]
  },
  {
   "cell_type": "code",
   "execution_count": 39,
   "metadata": {},
   "outputs": [],
   "source": [
    "# Normalise the data for use in Keras neural network models\n",
    "\n",
    "# Set normalisation factors [12]\n",
    "Speed_F = 25\n",
    "Power_F = 120\n",
    "\n",
    "# Apply normalisation to the input speeds\n",
    "Power_data_Normalise = Power_data.copy()\n",
    "Power_data_Normalise['speed'] = Power_data_Normalise['speed']/Speed_F\n",
    "Power_data_Normalise['power'] = Power_data_Normalise['power']/Power_F\n",
    "\n",
    "# Divide the data into training and testing sets. Code adapted from\n",
    "# https://www.geeksforgeeks.org/divide-a-pandas-dataframe-randomly-in-a-given-ratio/\n",
    "# Creating a training dataframe with 70% ratio of\n",
    "train = Power_data_Normalise.sample(frac = 0.7)\n",
    "  \n",
    "# Creating testing dataframe with rest of the 30% values \n",
    "test = Power_data_Normalise.drop(train.index)\n",
    "\n",
    "#code adopted from https://stackabuse.com/deep-learning-in-keras-building-a-deep-learning-model/\n",
    "# Need x and y in correct format.\n",
    "X = Power_data[[\"speed\"]] # note dimensions\n",
    "y = Power_data[\"power\"]\n",
    "\n",
    "# Split the data set into train/set. 80:20 split\n",
    "X_train, X_test, y_train, y_test = train_test_split(X, y, test_size = 0.2)\n",
    "\n",
    "# Take some of the training set to be a validation set. 25% of 80 = 60 \n",
    "# Want train:test:validation = 60:20:20\n",
    "X_train, X_val, y_train, y_val = train_test_split(X_train, y_train, test_size=0.25)\n"
   ]
  },
  {
   "cell_type": "code",
   "execution_count": 40,
   "metadata": {},
   "outputs": [
    {
     "name": "stdout",
     "output_type": "stream",
     "text": [
      "Keras Main Model Summary\n",
      "============================\n",
      "Model: \"sequential_1\"\n",
      "_________________________________________________________________\n",
      "Layer (type)                 Output Shape              Param #   \n",
      "=================================================================\n",
      "dense_3 (Dense)              (None, 20)                40        \n",
      "_________________________________________________________________\n",
      "dense_4 (Dense)              (None, 20)                420       \n",
      "_________________________________________________________________\n",
      "dense_5 (Dense)              (None, 1)                 21        \n",
      "=================================================================\n",
      "Total params: 481\n",
      "Trainable params: 481\n",
      "Non-trainable params: 0\n",
      "_________________________________________________________________\n"
     ]
    }
   ],
   "source": [
    "# Create basic Keras main model Code adpted from https://stackoverflow.com/a/59148584\n",
    "model_Accuracy = kr.models.Sequential()\n",
    "# Add 1st Hidden layer\n",
    "model_Accuracy.add(kr.layers.Dense(20, input_shape=(1,), activation=\"sigmoid\", kernel_initializer=\"glorot_uniform\", bias_initializer=\"glorot_uniform\"))\n",
    "# Add 2nd Hidden layer\n",
    "model_Accuracy.add(kr.layers.Dense(20, activation=\"sigmoid\", kernel_initializer=\"glorot_uniform\", bias_initializer=\"glorot_uniform\"))\n",
    "# Add Output layer\n",
    "model_Accuracy.add(kr.layers.Dense(1, activation=\"sigmoid\", kernel_initializer=\"glorot_uniform\", bias_initializer=\"glorot_uniform\"))\n",
    "# Compile model\n",
    "\n",
    "#model.compile(optimizer, loss, metrics=<a list of metrics you would like to use>)\n",
    "#model_Accuracy.compile(loss='binary_crossentropy', optimizer='adam', metrics=['accuracy'])\n",
    "model_Accuracy.compile(loss='mean_squared_error', optimizer='adam', metrics=['accuracy'])\n",
    "print(\"Keras Main Model Summary\")\n",
    "print(\"============================\")\n",
    "model_Accuracy.summary()\n"
   ]
  },
  {
   "cell_type": "code",
   "execution_count": 41,
   "metadata": {},
   "outputs": [
    {
     "name": "stdout",
     "output_type": "stream",
     "text": [
      "Epoch 1/35\n",
      " 1/34 [..............................] - ETA: 0s - loss: 0.2563 - accuracy: 0.0000e+00WARNING:tensorflow:Callbacks method `on_test_batch_end` is slow compared to the batch time (batch time: 0.0000s vs `on_test_batch_end` time: 0.0010s). Check your callbacks.\n",
      "34/34 [==============================] - 0s 7ms/step - loss: 0.2499 - accuracy: 0.0000e+00 - val_loss: 0.1980 - val_accuracy: 0.0000e+00\n",
      "Epoch 2/35\n",
      "34/34 [==============================] - 0s 1ms/step - loss: 0.1632 - accuracy: 0.0000e+00 - val_loss: 0.1348 - val_accuracy: 0.0000e+00\n",
      "Epoch 3/35\n",
      "34/34 [==============================] - 0s 1ms/step - loss: 0.1264 - accuracy: 0.0176 - val_loss: 0.1212 - val_accuracy: 0.0618\n",
      "Epoch 4/35\n",
      "34/34 [==============================] - 0s 971us/step - loss: 0.1200 - accuracy: 0.0618 - val_loss: 0.1187 - val_accuracy: 0.0618\n",
      "Epoch 5/35\n",
      "34/34 [==============================] - 0s 1ms/step - loss: 0.1182 - accuracy: 0.0618 - val_loss: 0.1175 - val_accuracy: 0.0618\n",
      "Epoch 6/35\n",
      "34/34 [==============================] - 0s 1000us/step - loss: 0.1171 - accuracy: 0.0618 - val_loss: 0.1165 - val_accuracy: 0.0618\n",
      "Epoch 7/35\n",
      "34/34 [==============================] - 0s 971us/step - loss: 0.1161 - accuracy: 0.0618 - val_loss: 0.1154 - val_accuracy: 0.0618\n",
      "Epoch 8/35\n",
      "34/34 [==============================] - 0s 1000us/step - loss: 0.1153 - accuracy: 0.0618 - val_loss: 0.1145 - val_accuracy: 0.0618\n",
      "Epoch 9/35\n",
      "34/34 [==============================] - 0s 1ms/step - loss: 0.1140 - accuracy: 0.0618 - val_loss: 0.1133 - val_accuracy: 0.0618\n",
      "Epoch 10/35\n",
      "34/34 [==============================] - 0s 971us/step - loss: 0.1130 - accuracy: 0.0618 - val_loss: 0.1122 - val_accuracy: 0.0618\n",
      "Epoch 11/35\n",
      "34/34 [==============================] - 0s 1ms/step - loss: 0.1117 - accuracy: 0.0618 - val_loss: 0.1110 - val_accuracy: 0.0618\n",
      "Epoch 12/35\n",
      "34/34 [==============================] - 0s 971us/step - loss: 0.1106 - accuracy: 0.0618 - val_loss: 0.1097 - val_accuracy: 0.0618\n",
      "Epoch 13/35\n",
      "34/34 [==============================] - 0s 971us/step - loss: 0.1092 - accuracy: 0.0618 - val_loss: 0.1083 - val_accuracy: 0.0618\n",
      "Epoch 14/35\n",
      "34/34 [==============================] - 0s 971us/step - loss: 0.1080 - accuracy: 0.0618 - val_loss: 0.1069 - val_accuracy: 0.0618\n",
      "Epoch 15/35\n",
      "34/34 [==============================] - 0s 1ms/step - loss: 0.1064 - accuracy: 0.0618 - val_loss: 0.1054 - val_accuracy: 0.0618\n",
      "Epoch 16/35\n",
      "34/34 [==============================] - 0s 1000us/step - loss: 0.1046 - accuracy: 0.0618 - val_loss: 0.1037 - val_accuracy: 0.0618\n",
      "Epoch 17/35\n",
      "34/34 [==============================] - 0s 1ms/step - loss: 0.1030 - accuracy: 0.0618 - val_loss: 0.1019 - val_accuracy: 0.0618\n",
      "Epoch 18/35\n",
      "34/34 [==============================] - 0s 1000us/step - loss: 0.1013 - accuracy: 0.0618 - val_loss: 0.0999 - val_accuracy: 0.0618\n",
      "Epoch 19/35\n",
      "34/34 [==============================] - 0s 1ms/step - loss: 0.0991 - accuracy: 0.0618 - val_loss: 0.0978 - val_accuracy: 0.0618\n",
      "Epoch 20/35\n",
      "34/34 [==============================] - 0s 1000us/step - loss: 0.0977 - accuracy: 0.0618 - val_loss: 0.0955 - val_accuracy: 0.0618\n",
      "Epoch 21/35\n",
      "34/34 [==============================] - 0s 1000us/step - loss: 0.0945 - accuracy: 0.0618 - val_loss: 0.0930 - val_accuracy: 0.0618\n",
      "Epoch 22/35\n",
      "34/34 [==============================] - 0s 1ms/step - loss: 0.0921 - accuracy: 0.0618 - val_loss: 0.0904 - val_accuracy: 0.0618\n",
      "Epoch 23/35\n",
      "34/34 [==============================] - 0s 1000us/step - loss: 0.0892 - accuracy: 0.0618 - val_loss: 0.0875 - val_accuracy: 0.0618\n",
      "Epoch 24/35\n",
      "34/34 [==============================] - 0s 971us/step - loss: 0.0862 - accuracy: 0.0618 - val_loss: 0.0844 - val_accuracy: 0.0618\n",
      "Epoch 25/35\n",
      "34/34 [==============================] - 0s 1ms/step - loss: 0.0829 - accuracy: 0.0618 - val_loss: 0.0811 - val_accuracy: 0.0618\n",
      "Epoch 26/35\n",
      "34/34 [==============================] - 0s 971us/step - loss: 0.0797 - accuracy: 0.0618 - val_loss: 0.0776 - val_accuracy: 0.0618\n",
      "Epoch 27/35\n",
      "34/34 [==============================] - 0s 1000us/step - loss: 0.0761 - accuracy: 0.0618 - val_loss: 0.0739 - val_accuracy: 0.0618\n",
      "Epoch 28/35\n",
      "34/34 [==============================] - 0s 1ms/step - loss: 0.0723 - accuracy: 0.0618 - val_loss: 0.0702 - val_accuracy: 0.0618\n",
      "Epoch 29/35\n",
      "34/34 [==============================] - 0s 1000us/step - loss: 0.0683 - accuracy: 0.0618 - val_loss: 0.0661 - val_accuracy: 0.0618\n",
      "Epoch 30/35\n",
      "34/34 [==============================] - 0s 1ms/step - loss: 0.0643 - accuracy: 0.0618 - val_loss: 0.0621 - val_accuracy: 0.0618\n",
      "Epoch 31/35\n",
      "34/34 [==============================] - 0s 1000us/step - loss: 0.0602 - accuracy: 0.0618 - val_loss: 0.0579 - val_accuracy: 0.0618\n",
      "Epoch 32/35\n",
      "34/34 [==============================] - 0s 1000us/step - loss: 0.0561 - accuracy: 0.0618 - val_loss: 0.0538 - val_accuracy: 0.0618\n",
      "Epoch 33/35\n",
      "34/34 [==============================] - 0s 1000us/step - loss: 0.0519 - accuracy: 0.0618 - val_loss: 0.0498 - val_accuracy: 0.0618\n",
      "Epoch 34/35\n",
      "34/34 [==============================] - 0s 1000us/step - loss: 0.0479 - accuracy: 0.0618 - val_loss: 0.0459 - val_accuracy: 0.0618\n",
      "Epoch 35/35\n",
      "34/34 [==============================] - 0s 1ms/step - loss: 0.0441 - accuracy: 0.0618 - val_loss: 0.0419 - val_accuracy: 0.0618\n"
     ]
    }
   ],
   "source": [
    "# Train the Keras main model on the training dataset.\n",
    "#history_MAccuracy = model_Accuracy.fit(train['speed'], train['power'],  epochs=500, batch_size=10, \n",
    "#    validation_data=(X_test, y_test))\n",
    "#history_MAccuracy = model_Accuracy.fit(train['speed'], train['power'], epochs=len(X_train), batch_size=10)\n",
    "#history_MAccuracy = model_Accuracy.fit(train['speed'], train['power'], epochs=500, batch_size=10)\n",
    "\n",
    "\n",
    "#code adopted from https://stackoverflow.com/questions/63547276/why-val-loss-and-val-accuracy-not-showing-in-epochs\n",
    "history_MAccuracy = model_Accuracy.fit(train['speed'], train['power'], epochs=35, batch_size=10,verbose=1, validation_data=(train['speed'], train['power']))\n"
   ]
  },
  {
   "cell_type": "code",
   "execution_count": 42,
   "metadata": {},
   "outputs": [
    {
     "name": "stdout",
     "output_type": "stream",
     "text": [
      "dict_keys(['loss', 'accuracy', 'val_loss', 'val_accuracy'])\n"
     ]
    }
   ],
   "source": [
    "# list all data in history\n",
    "print(history_MAccuracy.history.keys())"
   ]
  },
  {
   "cell_type": "markdown",
   "metadata": {},
   "source": [
    "<b>Model's Accuracy Plot</b>"
   ]
  },
  {
   "cell_type": "code",
   "execution_count": 43,
   "metadata": {},
   "outputs": [
    {
     "data": {
      "image/png": "[encoded data removed]",
      "text/plain": [
       "<Figure size 576x432 with 1 Axes>"
      ]
     },
     "metadata": {
      "needs_background": "light"
     },
     "output_type": "display_data"
    }
   ],
   "source": [
    "# summarize history for accuracy\n",
    "plt.plot(history_MAccuracy.history['accuracy'],'bx')\n",
    "plt.plot(history_MAccuracy.history['val_accuracy'], 'r')\n",
    "plt.title('model accuracy')\n",
    "plt.ylabel('accuracy')\n",
    "plt.xlabel('epoch')\n",
    "plt.legend(['train', 'test'], loc='upper left')\n",
    "plt.show()\n"
   ]
  },
  {
   "cell_type": "markdown",
   "metadata": {},
   "source": [
    "From the plot of accuracy we can see that the trained set of the model has a great accuracy where there is no gap between the trained and test epochs. Usually a great accuracy wtih low loss in the model means that it is a best model to predict correct values. "
   ]
  },
  {
   "cell_type": "markdown",
   "metadata": {},
   "source": [
    "<b>Model's Loss curve Plot</b>"
   ]
  },
  {
   "cell_type": "code",
   "execution_count": 44,
   "metadata": {},
   "outputs": [
    {
     "data": {
      "image/png": "[encoded data removed]",
      "text/plain": [
       "<Figure size 576x432 with 1 Axes>"
      ]
     },
     "metadata": {
      "needs_background": "light"
     },
     "output_type": "display_data"
    }
   ],
   "source": [
    "# summarize history for loss\n",
    "plt.plot(history_MAccuracy.history['loss'])\n",
    "plt.plot(history_MAccuracy.history['val_loss'])\n",
    "plt.title('model loss')\n",
    "plt.ylabel('loss')\n",
    "plt.xlabel('epoch')\n",
    "plt.legend(['train', 'test'], loc='upper left')\n",
    "plt.show()"
   ]
  },
  {
   "cell_type": "markdown",
   "metadata": {},
   "source": [
    "The above curve shows that it is a good fit on the model. We can see that the trainig and test loss decreases to a point of stability with a minimal gap between the two final loss values. It also seems that the loss of the test dataset decreases to a point of stability and has a small gap with the traning loss.\n",
    "\n",
    "Since we have a great accuracy on the model with very low level of loss, the predictions from this training model will give most accurate results."
   ]
  },
  {
   "cell_type": "markdown",
   "metadata": {},
   "source": [
    "### User Interface for the Website"
   ]
  },
  {
   "cell_type": "markdown",
   "metadata": {},
   "source": [
    "![IndexPage](images/IndexPage.png)"
   ]
  },
  {
   "cell_type": "markdown",
   "metadata": {},
   "source": [
    "### Code used for Flask Application"
   ]
  },
  {
   "cell_type": "code",
   "execution_count": 45,
   "metadata": {},
   "outputs": [],
   "source": [
    "# Function to predict power output based on inputted wind speeds using Keras Main Model\n",
    "def power_output(windspeeds):\n",
    "    \"\"\" Function to predict power output based on inputted wind speeds\n",
    "      Acceptable inputs include numbers or a list of numbers\n",
    "    \"\"\"\n",
    "    # Set the cut off wind speeds\n",
    "    minWS, maxWS = 3, 24.5\n",
    "    Speed_F=25\n",
    "    Power_F=120\n",
    "    # If wind speed is inside the cut off levels\n",
    "    if windspeeds > minWS and windspeeds < maxWS:\n",
    "      ws = np.array([windspeeds])\n",
    "      return round(model.predict([ws/Speed_F])[0][0]*Power_F, 3)\n",
    "    else:\n",
    "      \n",
    "      return 0"
   ]
  },
  {
   "cell_type": "code",
   "execution_count": 46,
   "metadata": {},
   "outputs": [
    {
     "name": "stdout",
     "output_type": "stream",
     "text": [
      "Wind speed: 20 gives power: 99.108\n"
     ]
    }
   ],
   "source": [
    "# Testing of function for single number values\n",
    "ws_test = 20\n",
    "print(f\"Wind speed: {ws_test} gives power: {power_output(ws_test)}\")\n",
    " "
   ]
  },
  {
   "cell_type": "markdown",
   "metadata": {},
   "source": [
    "<b>References:</b>\n",
    "\n",
    "[1]. The Power of the Wind: Cube of Wind Speed, http://xn--drmstrre-64ad.dk/wp-content/wind/miller/windpower%20web/en/tour/wres/enrspeed.htm\n",
    "\n",
    "[2]. The Power Curve of a Wind Turbine, http://xn--drmstrre-64ad.dk/wp-content/wind/miller/windpower%20web/en/tour/wres/pwr.htm\n",
    "\n",
    "[3]. Wind Turbine Power Curve, https://www.windfarmbop.com/wind-power-plant-concepts-and-performance-indicators/wind-turbine-power-curve/\n",
    "\n",
    "[4]. How Do Wind Turbines Survive Severe Storms?; Office of ENERGY EFFICIENCY & RENEWABLE ENERGY - USA; https://www.energy.gov/eere/articles/how-do-wind-turbines-survive-severe-storms\n",
    "\n",
    "[5].Simple Linear Regression, https://towardsdatascience.com/linear-regression-using-python-b136c91bf0a2\n",
    "\n",
    "[6] Machine learning methods for wind turbine condition monitoring: A review, https://www.sciencedirect.com/science/article/pii/S096014811831231X\n",
    "\n",
    "[6] Deep Learning, https://stackabuse.com/deep-learning-in-keras-building-a-deep-learning-model/ \n",
    "\n",
    "[7] Machine Learning Mastery, How To Build Multi-Layer Perceptron Neural Network Models with Keras , https://machinelearningmastery.com/build-multi-layer-perceptron-neural-network-models-keras/\n",
    "\n",
    "[8] Machine learning methods for wind turbine condition monitoring: A review,  https://www.sciencedirect.com/science/article/pii/S096014811831231X\n",
    "\n",
    "[9] Understanding Activation Functions in Neural Networks, https://medium.com/the-theory-of-everything/understanding-activation-functions-in-neural-networks-9491262884e0\n",
    "\n",
    "[10] A Gentle Introduction to the Rectified Linear Unit (ReLU), https://machinelearningmastery.com/rectified-linear-activation-function-for-deep-learning-neural-networks/#:~:text=The%20rectified%20linear%20activation%20function,otherwise%2C%20it%20will%20output%20zero.&text=The%20rectified%20linear%20activation%20function%20overcomes%20the%20vanishing%20gradient%20problem,learn%20faster%20and%20perform%20better.\n",
    "\n",
    "[11] ReLU, Sigmoid and Tanh: today’s most used activation functions https://www.machinecurve.com/index.php/2019/09/04/relu-sigmoid-and-tanh-todays-most-used-activation-functions/\n",
    "\n",
    "[12] Data Cleaning Challenge: Scale and Normalize Data, https://www.kaggle.com/rtatman/data-cleaning-challenge-scale-and-normalize-data\n",
    "\n",
    "[13] Machine Learning Model Accuracy, https://www.datarobot.com/wiki/accuracy/#:~:text=What%20does%20Machine%20Learning%20Model,input%2C%20or%20training%2C%20data.\n",
    "\n",
    "\n",
    "<b>References for Programming</b>\n",
    "\n",
    "[1] Virtual Environments in Python Made Easy, https://www.sitepoint.com/virtual-environments-python-made-easy/#:~:text=And%20to%20delete%20a%20virtual,directory%20you%20want%20to%20delete.\n",
    "\n",
    "[2] Linear Regression in Python, https://realpython.com/linear-regression-in-python/https://seaborn.pydata.org/generated/seaborn.jointplot.html#seaborn.jointplot\n",
    "\n",
    "[3] Linear Regression (Python Implementation), https://www.geeksforgeeks.org/linear-regression-python-implementation/\n",
    "\n",
    "[4] How to Build and Train Linear and Logistic Regression ML Models in Python, https://www.freecodecamp.org/news/how-to-build-and-train-linear-and-logistic-regression-ml-models-in-python/\n",
    "\n",
    "[5] Linear Regression in Puthon with Scikit-Learn, https://stackabuse.com/linear-regression-in-python-with-scikit-learn/\n",
    "\n",
    "[6] Model Training APIs, https://keras.io/api/models/model_training_apis/\n",
    "\n",
    "[7] Keras Tutorial: Deep Learning in Python, https://www.datacamp.com/community/tutorials/deep-learning-python\n",
    "\n",
    "[8] ML Project in Python with Keras Step-By-Step,  https://machinelearningmastery.com/tutorial-first-neural-network-python-keras/\n"
   ]
  }
 ],
 "metadata": {
  "kernelspec": {
   "display_name": "Python 3",
   "language": "python",
   "name": "python3"
  },
  "language_info": {
   "codemirror_mode": {
    "name": "ipython",
    "version": 3
   },
   "file_extension": ".py",
   "mimetype": "text/x-python",
   "name": "python",
   "nbconvert_exporter": "python",
   "pygments_lexer": "ipython3",
   "version": "3.8.5"
  }
 },
 "nbformat": 4,
 "nbformat_minor": 4
}
